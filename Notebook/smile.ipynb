{
 "cells": [
  {
   "cell_type": "code",
   "execution_count": 1,
   "metadata": {},
   "outputs": [],
   "source": [
    "import pandas as pd\n",
    "import matplotlib.pyplot as plt\n",
    "import seaborn as sns\n",
    "import numpy as np\n",
    "import warnings\n",
    "warnings.filterwarnings('ignore')\n"
   ]
  },
  {
   "cell_type": "code",
   "execution_count": 2,
   "metadata": {
    "scrolled": true
   },
   "outputs": [
    {
     "data": {
      "text/html": [
       "<div>\n",
       "<style scoped>\n",
       "    .dataframe tbody tr th:only-of-type {\n",
       "        vertical-align: middle;\n",
       "    }\n",
       "\n",
       "    .dataframe tbody tr th {\n",
       "        vertical-align: top;\n",
       "    }\n",
       "\n",
       "    .dataframe thead th {\n",
       "        text-align: right;\n",
       "    }\n",
       "</style>\n",
       "<table border=\"1\" class=\"dataframe\">\n",
       "  <thead>\n",
       "    <tr style=\"text-align: right;\">\n",
       "      <th></th>\n",
       "      <th>CallReportNum</th>\n",
       "      <th>ReportVersion</th>\n",
       "      <th>CallDateAndTimeStart</th>\n",
       "      <th>CallDateAndTimeEnd</th>\n",
       "      <th>CallLength</th>\n",
       "      <th>CallerNum</th>\n",
       "      <th>PhoneWorkerNum</th>\n",
       "      <th>CityName</th>\n",
       "      <th>CountyName</th>\n",
       "      <th>StateProvince</th>\n",
       "      <th>...</th>\n",
       "      <th>Is_the_treatment_plan_completed</th>\n",
       "      <th>Was_a_treatment_plan_developed</th>\n",
       "      <th>What_car_ was_provided_to_the_enrollee</th>\n",
       "      <th>Dental_Insurance</th>\n",
       "      <th>Do_they_pre_qualify_for_SMILE_ON_60+</th>\n",
       "      <th>What_is_the_next_step_for_clients_encounter</th>\n",
       "      <th>What_is_the_next_step_for_clients_encounter.1</th>\n",
       "      <th>Number_of_Lower_Natural_Teeth</th>\n",
       "      <th>Enroller_ID</th>\n",
       "      <th>Enroller_Location</th>\n",
       "    </tr>\n",
       "  </thead>\n",
       "  <tbody>\n",
       "    <tr>\n",
       "      <th>0</th>\n",
       "      <td>81381827</td>\n",
       "      <td>SMILE ON 60+ Registration</td>\n",
       "      <td>11/25/2020 16:46</td>\n",
       "      <td>11/25/2020 16:48</td>\n",
       "      <td>2</td>\n",
       "      <td>3859874</td>\n",
       "      <td>136529</td>\n",
       "      <td>Springfield</td>\n",
       "      <td>Robertson</td>\n",
       "      <td>TN</td>\n",
       "      <td>...</td>\n",
       "      <td>NaN</td>\n",
       "      <td>NaN</td>\n",
       "      <td>NaN</td>\n",
       "      <td>No</td>\n",
       "      <td>Yes</td>\n",
       "      <td>Continued with Navigation</td>\n",
       "      <td>NaN</td>\n",
       "      <td>NaN</td>\n",
       "      <td>Matthew Walker Comprehensive Health Center Inc...</td>\n",
       "      <td>Provider Site</td>\n",
       "    </tr>\n",
       "    <tr>\n",
       "      <th>1</th>\n",
       "      <td>81381479</td>\n",
       "      <td>SMILE ON 60+ Registration</td>\n",
       "      <td>11/23/2020 16:36</td>\n",
       "      <td>11/23/2020 16:39</td>\n",
       "      <td>3</td>\n",
       "      <td>3859856</td>\n",
       "      <td>136529</td>\n",
       "      <td>Nashville</td>\n",
       "      <td>Davidson</td>\n",
       "      <td>TN</td>\n",
       "      <td>...</td>\n",
       "      <td>NaN</td>\n",
       "      <td>NaN</td>\n",
       "      <td>NaN</td>\n",
       "      <td>No</td>\n",
       "      <td>Yes</td>\n",
       "      <td>Continued with Navigation</td>\n",
       "      <td>NaN</td>\n",
       "      <td>NaN</td>\n",
       "      <td>Matthew Walker Comprehensive Health Center Inc...</td>\n",
       "      <td>Provider Site</td>\n",
       "    </tr>\n",
       "    <tr>\n",
       "      <th>2</th>\n",
       "      <td>81289447</td>\n",
       "      <td>SMILE ON 60+ Registration</td>\n",
       "      <td>11/23/2020 14:24</td>\n",
       "      <td>11/23/2020 14:26</td>\n",
       "      <td>2</td>\n",
       "      <td>3853796</td>\n",
       "      <td>141066</td>\n",
       "      <td>Memphis</td>\n",
       "      <td>Shelby</td>\n",
       "      <td>TN</td>\n",
       "      <td>...</td>\n",
       "      <td>NaN</td>\n",
       "      <td>NaN</td>\n",
       "      <td>NaN</td>\n",
       "      <td>No</td>\n",
       "      <td>Yes</td>\n",
       "      <td>Continued with Navigation</td>\n",
       "      <td>NaN</td>\n",
       "      <td>NaN</td>\n",
       "      <td>Church Health Center - Memphis</td>\n",
       "      <td>Provider Site</td>\n",
       "    </tr>\n",
       "    <tr>\n",
       "      <th>3</th>\n",
       "      <td>81280597</td>\n",
       "      <td>SMILE ON 60+ Registration</td>\n",
       "      <td>11/23/2020 12:02</td>\n",
       "      <td>11/23/2020 12:18</td>\n",
       "      <td>16</td>\n",
       "      <td>3853155</td>\n",
       "      <td>119513</td>\n",
       "      <td>Johnson City</td>\n",
       "      <td>Washington</td>\n",
       "      <td>TN</td>\n",
       "      <td>...</td>\n",
       "      <td>NaN</td>\n",
       "      <td>NaN</td>\n",
       "      <td>NaN</td>\n",
       "      <td>No</td>\n",
       "      <td>Yes</td>\n",
       "      <td>Continued with Navigation</td>\n",
       "      <td>NaN</td>\n",
       "      <td>NaN</td>\n",
       "      <td>Northeast Tennessee Community Health Centers I...</td>\n",
       "      <td>Provider Site</td>\n",
       "    </tr>\n",
       "    <tr>\n",
       "      <th>4</th>\n",
       "      <td>81270356</td>\n",
       "      <td>SMILE ON 60+ Registration</td>\n",
       "      <td>11/23/2020 9:02</td>\n",
       "      <td>11/23/2020 9:07</td>\n",
       "      <td>5</td>\n",
       "      <td>3852084</td>\n",
       "      <td>134393</td>\n",
       "      <td>Clarksville</td>\n",
       "      <td>Montgomery</td>\n",
       "      <td>TN</td>\n",
       "      <td>...</td>\n",
       "      <td>NaN</td>\n",
       "      <td>NaN</td>\n",
       "      <td>NaN</td>\n",
       "      <td>No</td>\n",
       "      <td>Yes</td>\n",
       "      <td>Continued with Navigation</td>\n",
       "      <td>NaN</td>\n",
       "      <td>NaN</td>\n",
       "      <td>Matthew Walker - Clarksville</td>\n",
       "      <td>Provider Site</td>\n",
       "    </tr>\n",
       "  </tbody>\n",
       "</table>\n",
       "<p>5 rows × 56 columns</p>\n",
       "</div>"
      ],
      "text/plain": [
       "   CallReportNum              ReportVersion CallDateAndTimeStart  \\\n",
       "0       81381827  SMILE ON 60+ Registration     11/25/2020 16:46   \n",
       "1       81381479  SMILE ON 60+ Registration     11/23/2020 16:36   \n",
       "2       81289447  SMILE ON 60+ Registration     11/23/2020 14:24   \n",
       "3       81280597  SMILE ON 60+ Registration     11/23/2020 12:02   \n",
       "4       81270356  SMILE ON 60+ Registration      11/23/2020 9:02   \n",
       "\n",
       "  CallDateAndTimeEnd  CallLength  CallerNum  PhoneWorkerNum      CityName  \\\n",
       "0   11/25/2020 16:48           2    3859874          136529   Springfield   \n",
       "1   11/23/2020 16:39           3    3859856          136529     Nashville   \n",
       "2   11/23/2020 14:26           2    3853796          141066       Memphis   \n",
       "3   11/23/2020 12:18          16    3853155          119513  Johnson City   \n",
       "4    11/23/2020 9:07           5    3852084          134393   Clarksville   \n",
       "\n",
       "   CountyName StateProvince  ... Is_the_treatment_plan_completed  \\\n",
       "0   Robertson            TN  ...                             NaN   \n",
       "1    Davidson            TN  ...                             NaN   \n",
       "2      Shelby            TN  ...                             NaN   \n",
       "3  Washington            TN  ...                             NaN   \n",
       "4  Montgomery            TN  ...                             NaN   \n",
       "\n",
       "   Was_a_treatment_plan_developed What_car_ was_provided_to_the_enrollee  \\\n",
       "0                             NaN                                    NaN   \n",
       "1                             NaN                                    NaN   \n",
       "2                             NaN                                    NaN   \n",
       "3                             NaN                                    NaN   \n",
       "4                             NaN                                    NaN   \n",
       "\n",
       "   Dental_Insurance Do_they_pre_qualify_for_SMILE_ON_60+  \\\n",
       "0                No                                  Yes   \n",
       "1                No                                  Yes   \n",
       "2                No                                  Yes   \n",
       "3                No                                  Yes   \n",
       "4                No                                  Yes   \n",
       "\n",
       "  What_is_the_next_step_for_clients_encounter  \\\n",
       "0                   Continued with Navigation   \n",
       "1                   Continued with Navigation   \n",
       "2                   Continued with Navigation   \n",
       "3                   Continued with Navigation   \n",
       "4                   Continued with Navigation   \n",
       "\n",
       "  What_is_the_next_step_for_clients_encounter.1 Number_of_Lower_Natural_Teeth  \\\n",
       "0                                           NaN                           NaN   \n",
       "1                                           NaN                           NaN   \n",
       "2                                           NaN                           NaN   \n",
       "3                                           NaN                           NaN   \n",
       "4                                           NaN                           NaN   \n",
       "\n",
       "                                         Enroller_ID  Enroller_Location  \n",
       "0  Matthew Walker Comprehensive Health Center Inc...      Provider Site  \n",
       "1  Matthew Walker Comprehensive Health Center Inc...      Provider Site  \n",
       "2                     Church Health Center - Memphis      Provider Site  \n",
       "3  Northeast Tennessee Community Health Centers I...      Provider Site  \n",
       "4                       Matthew Walker - Clarksville      Provider Site  \n",
       "\n",
       "[5 rows x 56 columns]"
      ]
     },
     "execution_count": 2,
     "metadata": {},
     "output_type": "execute_result"
    }
   ],
   "source": [
    "smile = pd.read_csv('../data/smile.csv')\n",
    "smile.head()"
   ]
  },
  {
   "cell_type": "code",
   "execution_count": 3,
   "metadata": {},
   "outputs": [
    {
     "data": {
      "text/plain": [
       "CallReportNum                                                       40032\n",
       "ReportVersion                                                       40032\n",
       "CallDateAndTimeStart                                                40032\n",
       "CallDateAndTimeEnd                                                  40032\n",
       "CallLength                                                          40032\n",
       "CallerNum                                                           40032\n",
       "PhoneWorkerNum                                                      40032\n",
       "CityName                                                            39404\n",
       "CountyName                                                          39685\n",
       "StateProvince                                                       40025\n",
       "CountryName                                                         39687\n",
       "PostalCode                                                          37392\n",
       "Narrative                                                            5320\n",
       "EnteredByWorkerNum                                                  40032\n",
       "EnteredOn                                                           40032\n",
       "Reviewed                                                            40032\n",
       "FeedbackStatus                                                      40032\n",
       "ReferralsMade                                                        2430\n",
       "OrgNum                                                              40032\n",
       "People_in_Household                                                 38582\n",
       "BirthYear                                                           40032\n",
       "Are_you_limited_in_what_you_can_eat?                                33756\n",
       "Dental_Clinic                                                       14050\n",
       "commit_to_referral                                                  29254\n",
       "Did_you_help_in these_other_areas                                    5098\n",
       "Do_you_need_help_in_these_other_areas                                9631\n",
       "appearance_of_your_mouth_and_teeth_affected_your_quality_of_life    33232\n",
       "condition_of_your_mouth_and_teeth                                   33798\n",
       "next_step_for_client_encounter                                       6040\n",
       "next_step_for_clients_encounter                                      9854\n",
       " Dental_Clinic                                                        728\n",
       "Transportation_Barriers                                              2825\n",
       "barriers_for_finding_consistent_dental_home                         34614\n",
       "outcome_for_the_client                                                595\n",
       "Upload_Before_Picture_on_Finish_Tab                                  1445\n",
       "Is_patient_of_record_date_if_yes_last_seen                           3528\n",
       "Was_initial_appointment_made                                         4328\n",
       "Was_initial_transportation_assistance_or_referral_provided           3775\n",
       "Gender                                                              39611\n",
       "Household_Income_Level                                              38148\n",
       "How_did_you_first_hear_about_the_SMILE60+                           37948\n",
       "Preferred_Language/Language_Needed                                  11719\n",
       "Race/Ethnicity                                                      36454\n",
       "What_other_assistance_programs_are_you_on                           20004\n",
       "last_time_you_visited_your_dentist                                  37224\n",
       "Upload_After_Picture_on_Finish_Tab                                      1\n",
       "Is_the_treatment_plan_completed                                         4\n",
       "Was_a_treatment_plan_developed                                          5\n",
       "What_car_ was_provided_to_the_enrollee                              24849\n",
       "Dental_Insurance                                                    37510\n",
       "Do_they_pre_qualify_for_SMILE_ON_60+                                36791\n",
       "What_is_the_next_step_for_clients_encounter                         11922\n",
       "What_is_the_next_step_for_clients_encounter.1                       25917\n",
       "Number_of_Lower_Natural_Teeth                                        4583\n",
       "Enroller_ID                                                         32801\n",
       "Enroller_Location                                                   27683\n",
       "dtype: int64"
      ]
     },
     "execution_count": 3,
     "metadata": {},
     "output_type": "execute_result"
    }
   ],
   "source": [
    "smile.count()"
   ]
  },
  {
   "cell_type": "code",
   "execution_count": 4,
   "metadata": {},
   "outputs": [
    {
     "data": {
      "text/plain": [
       "37130.0    1119\n",
       "37013.0     966\n",
       "37207.0     934\n",
       "37211.0     787\n",
       "37115.0     751\n",
       "           ... \n",
       "37409.0       1\n",
       "37406.0       1\n",
       "37370.0       1\n",
       "37320.0       1\n",
       "30741.0       1\n",
       "Name: PostalCode, Length: 479, dtype: int64"
      ]
     },
     "execution_count": 4,
     "metadata": {},
     "output_type": "execute_result"
    }
   ],
   "source": [
    "smile.PostalCode.value_counts()"
   ]
  },
  {
   "cell_type": "code",
   "execution_count": 5,
   "metadata": {},
   "outputs": [
    {
     "data": {
      "text/plain": [
       "array(['Provider Site', nan, 'Health Assist Office', 'Senior Center',\n",
       "       'Tooth Wisdom', 'Outreach'], dtype=object)"
      ]
     },
     "execution_count": 5,
     "metadata": {},
     "output_type": "execute_result"
    }
   ],
   "source": [
    "smile['Enroller_Location'].unique()"
   ]
  },
  {
   "cell_type": "code",
   "execution_count": 6,
   "metadata": {},
   "outputs": [
    {
     "data": {
      "text/plain": [
       "37130.0    1119\n",
       "37013.0     966\n",
       "37207.0     934\n",
       "37211.0     787\n",
       "37115.0     751\n",
       "           ... \n",
       "37409.0       1\n",
       "37406.0       1\n",
       "37370.0       1\n",
       "37320.0       1\n",
       "30741.0       1\n",
       "Name: PostalCode, Length: 479, dtype: int64"
      ]
     },
     "execution_count": 6,
     "metadata": {},
     "output_type": "execute_result"
    }
   ],
   "source": [
    "smile.PostalCode.value_counts()"
   ]
  },
  {
   "cell_type": "code",
   "execution_count": 7,
   "metadata": {},
   "outputs": [
    {
     "data": {
      "text/plain": [
       "$0 - $21 280     28983\n",
       "$21246-$24280     5220\n",
       "$24281-$27315     1600\n",
       "$28806-$32920     1439\n",
       "$32921-$37035      429\n",
       "$36366-$41560      191\n",
       "$41561-$46755      151\n",
       "$50201-$56475       42\n",
       "$43926-$50200       40\n",
       "$51486-$58840       13\n",
       "$76121-$85635       12\n",
       "$59046-$67480       11\n",
       "$58841-$66195        9\n",
       "$66606-$76120        3\n",
       "$84761-$95355        3\n",
       "$67481-$75915        2\n",
       "Name: Household_Income_Level, dtype: int64"
      ]
     },
     "execution_count": 7,
     "metadata": {},
     "output_type": "execute_result"
    }
   ],
   "source": [
    "smile.Household_Income_Level.value_counts()"
   ]
  },
  {
   "cell_type": "code",
   "execution_count": 8,
   "metadata": {},
   "outputs": [
    {
     "data": {
      "text/plain": [
       "<matplotlib.axes._subplots.AxesSubplot at 0x24185e19190>"
      ]
     },
     "execution_count": 8,
     "metadata": {},
     "output_type": "execute_result"
    },
    {
     "data": {
      "image/png": "[encoded data removed]",
      "text/plain": [
       "<Figure size 432x288 with 1 Axes>"
      ]
     },
     "metadata": {
      "needs_background": "light"
     },
     "output_type": "display_data"
    }
   ],
   "source": [
    "smile.Household_Income_Level.value_counts().plot.bar()"
   ]
  },
  {
   "cell_type": "code",
   "execution_count": 9,
   "metadata": {},
   "outputs": [
    {
     "data": {
      "text/plain": [
       "Dental cost; No insurance                                                                            14479\n",
       "Dental cost                                                                                          10497\n",
       "No insurance                                                                                          2956\n",
       "Transportation; Dental cost; No insurance                                                             1213\n",
       "Transportation; Dental cost                                                                            952\n",
       "Dental cost; No insurance; Fear                                                                        812\n",
       "Dental cost; Fear                                                                                      614\n",
       "Dental cost; No insurance; Physical mobility and health                                                453\n",
       "Dental cost; Physical mobility and health                                                              386\n",
       "Transportation                                                                                         312\n",
       "Fear                                                                                                   312\n",
       "Transportation; Dental cost; No insurance; Fear                                                        177\n",
       "Transportation; Dental cost; Fear                                                                      170\n",
       "Transportation; Dental cost; No insurance; Physical mobility and health                                151\n",
       "No insurance; Fear                                                                                     126\n",
       "Physical mobility and health                                                                           120\n",
       "Dental cost; No insurance; Personal isolation                                                           99\n",
       "Transportation; No insurance                                                                            83\n",
       "Personal isolation                                                                                      75\n",
       "Transportation; Dental cost; Physical mobility and health                                               69\n",
       "Transportation; Dental cost; No insurance; Personal isolation; Fear; Physical mobility and health       69\n",
       "Dental cost; No insurance; Personal isolation; Fear; Physical mobility and health                       66\n",
       "Transportation; Dental cost; No insurance; Fear; Physical mobility and health                           45\n",
       "Dental cost; No insurance; Fear; Physical mobility and health                                           40\n",
       "Transportation; Dental cost; No insurance; Personal isolation; Fear                                     38\n",
       "No insurance; Physical mobility and health                                                              38\n",
       "Dental cost; No insurance; Personal isolation; Fear                                                     37\n",
       "Dental cost; Fear; Physical mobility and health                                                         33\n",
       "Dental cost; No insurance; Personal isolation; Physical mobility and health                             30\n",
       "Fear; Physical mobility and health                                                                      25\n",
       "Transportation; Dental cost; No insurance; Personal isolation; Physical mobility and health             24\n",
       "Transportation; Physical mobility and health                                                            20\n",
       "Transportation; No insurance; Physical mobility and health                                              16\n",
       "Dental cost; Personal isolation; Fear                                                                   15\n",
       "Transportation; Dental cost; No insurance; Personal isolation                                           14\n",
       "Transportation; Fear; Physical mobility and health                                                       9\n",
       "Dental cost; Personal isolation; Physical mobility and health                                            8\n",
       "Transportation; Dental cost; Fear; Physical mobility and health                                          5\n",
       "Personal isolation; Physical mobility and health                                                         5\n",
       "No insurance; Personal isolation                                                                         4\n",
       "Transportation; Dental cost; Personal isolation; Physical mobility and health                            3\n",
       "Dental cost; Personal isolation                                                                          3\n",
       "Transportation; No insurance; Fear                                                                       2\n",
       "No insurance; Fear; Physical mobility and health                                                         2\n",
       "Transportation; Personal isolation; Fear                                                                 2\n",
       "Transportation; Personal isolation; Physical mobility and health                                         2\n",
       "Transportation; Fear                                                                                     1\n",
       "No insurance; Personal isolation; Fear                                                                   1\n",
       "Transportation; No insurance; Personal isolation                                                         1\n",
       "Name: barriers_for_finding_consistent_dental_home, dtype: int64"
      ]
     },
     "execution_count": 9,
     "metadata": {},
     "output_type": "execute_result"
    }
   ],
   "source": [
    "smile.barriers_for_finding_consistent_dental_home.value_counts()"
   ]
  },
  {
   "cell_type": "code",
   "execution_count": 10,
   "metadata": {},
   "outputs": [
    {
     "data": {
      "text/plain": [
       "34457   -2\n",
       "30438   -2\n",
       "8516    -2\n",
       "31640   -2\n",
       "14337   -2\n",
       "Name: CallerNum, dtype: int64"
      ]
     },
     "execution_count": 10,
     "metadata": {},
     "output_type": "execute_result"
    }
   ],
   "source": [
    "type_counts=smile.CallerNum.sort_values()\n",
    "type_counts.head()"
   ]
  },
  {
   "cell_type": "code",
   "execution_count": 11,
   "metadata": {},
   "outputs": [
    {
     "data": {
      "text/html": [
       "<div>\n",
       "<style scoped>\n",
       "    .dataframe tbody tr th:only-of-type {\n",
       "        vertical-align: middle;\n",
       "    }\n",
       "\n",
       "    .dataframe tbody tr th {\n",
       "        vertical-align: top;\n",
       "    }\n",
       "\n",
       "    .dataframe thead th {\n",
       "        text-align: right;\n",
       "    }\n",
       "</style>\n",
       "<table border=\"1\" class=\"dataframe\">\n",
       "  <thead>\n",
       "    <tr style=\"text-align: right;\">\n",
       "      <th></th>\n",
       "      <th>index</th>\n",
       "      <th>CallerNum</th>\n",
       "    </tr>\n",
       "  </thead>\n",
       "  <tbody>\n",
       "    <tr>\n",
       "      <th>0</th>\n",
       "      <td>34457</td>\n",
       "      <td>-2</td>\n",
       "    </tr>\n",
       "    <tr>\n",
       "      <th>1</th>\n",
       "      <td>30438</td>\n",
       "      <td>-2</td>\n",
       "    </tr>\n",
       "    <tr>\n",
       "      <th>2</th>\n",
       "      <td>8516</td>\n",
       "      <td>-2</td>\n",
       "    </tr>\n",
       "    <tr>\n",
       "      <th>3</th>\n",
       "      <td>31640</td>\n",
       "      <td>-2</td>\n",
       "    </tr>\n",
       "    <tr>\n",
       "      <th>4</th>\n",
       "      <td>14337</td>\n",
       "      <td>-2</td>\n",
       "    </tr>\n",
       "    <tr>\n",
       "      <th>...</th>\n",
       "      <td>...</td>\n",
       "      <td>...</td>\n",
       "    </tr>\n",
       "    <tr>\n",
       "      <th>40027</th>\n",
       "      <td>2687</td>\n",
       "      <td>3859831</td>\n",
       "    </tr>\n",
       "    <tr>\n",
       "      <th>40028</th>\n",
       "      <td>2986</td>\n",
       "      <td>3859848</td>\n",
       "    </tr>\n",
       "    <tr>\n",
       "      <th>40029</th>\n",
       "      <td>1</td>\n",
       "      <td>3859856</td>\n",
       "    </tr>\n",
       "    <tr>\n",
       "      <th>40030</th>\n",
       "      <td>2982</td>\n",
       "      <td>3859863</td>\n",
       "    </tr>\n",
       "    <tr>\n",
       "      <th>40031</th>\n",
       "      <td>0</td>\n",
       "      <td>3859874</td>\n",
       "    </tr>\n",
       "  </tbody>\n",
       "</table>\n",
       "<p>40032 rows × 2 columns</p>\n",
       "</div>"
      ],
      "text/plain": [
       "       index  CallerNum\n",
       "0      34457         -2\n",
       "1      30438         -2\n",
       "2       8516         -2\n",
       "3      31640         -2\n",
       "4      14337         -2\n",
       "...      ...        ...\n",
       "40027   2687    3859831\n",
       "40028   2986    3859848\n",
       "40029      1    3859856\n",
       "40030   2982    3859863\n",
       "40031      0    3859874\n",
       "\n",
       "[40032 rows x 2 columns]"
      ]
     },
     "execution_count": 11,
     "metadata": {},
     "output_type": "execute_result"
    }
   ],
   "source": [
    "type_counts = type_counts.reset_index()\n",
    "type_counts"
   ]
  },
  {
   "cell_type": "code",
   "execution_count": 12,
   "metadata": {},
   "outputs": [
    {
     "data": {
      "text/html": [
       "<div>\n",
       "<style scoped>\n",
       "    .dataframe tbody tr th:only-of-type {\n",
       "        vertical-align: middle;\n",
       "    }\n",
       "\n",
       "    .dataframe tbody tr th {\n",
       "        vertical-align: top;\n",
       "    }\n",
       "\n",
       "    .dataframe thead th {\n",
       "        text-align: right;\n",
       "    }\n",
       "</style>\n",
       "<table border=\"1\" class=\"dataframe\">\n",
       "  <thead>\n",
       "    <tr style=\"text-align: right;\">\n",
       "      <th></th>\n",
       "      <th>CallerNum</th>\n",
       "      <th>count</th>\n",
       "    </tr>\n",
       "  </thead>\n",
       "  <tbody>\n",
       "    <tr>\n",
       "      <th>0</th>\n",
       "      <td>34457</td>\n",
       "      <td>-2</td>\n",
       "    </tr>\n",
       "    <tr>\n",
       "      <th>1</th>\n",
       "      <td>30438</td>\n",
       "      <td>-2</td>\n",
       "    </tr>\n",
       "    <tr>\n",
       "      <th>2</th>\n",
       "      <td>8516</td>\n",
       "      <td>-2</td>\n",
       "    </tr>\n",
       "  </tbody>\n",
       "</table>\n",
       "</div>"
      ],
      "text/plain": [
       "   CallerNum  count\n",
       "0      34457     -2\n",
       "1      30438     -2\n",
       "2       8516     -2"
      ]
     },
     "execution_count": 12,
     "metadata": {},
     "output_type": "execute_result"
    }
   ],
   "source": [
    "type_counts.columns = ['CallerNum', 'count']\n",
    "type_counts.head(3)"
   ]
  },
  {
   "cell_type": "code",
   "execution_count": 13,
   "metadata": {},
   "outputs": [
    {
     "data": {
      "text/html": [
       "<div>\n",
       "<style scoped>\n",
       "    .dataframe tbody tr th:only-of-type {\n",
       "        vertical-align: middle;\n",
       "    }\n",
       "\n",
       "    .dataframe tbody tr th {\n",
       "        vertical-align: top;\n",
       "    }\n",
       "\n",
       "    .dataframe thead th {\n",
       "        text-align: right;\n",
       "    }\n",
       "</style>\n",
       "<table border=\"1\" class=\"dataframe\">\n",
       "  <thead>\n",
       "    <tr style=\"text-align: right;\">\n",
       "      <th></th>\n",
       "      <th>CallerNum</th>\n",
       "      <th>count</th>\n",
       "    </tr>\n",
       "  </thead>\n",
       "  <tbody>\n",
       "    <tr>\n",
       "      <th>40031</th>\n",
       "      <td>0</td>\n",
       "      <td>3859874</td>\n",
       "    </tr>\n",
       "    <tr>\n",
       "      <th>40030</th>\n",
       "      <td>2982</td>\n",
       "      <td>3859863</td>\n",
       "    </tr>\n",
       "    <tr>\n",
       "      <th>40029</th>\n",
       "      <td>1</td>\n",
       "      <td>3859856</td>\n",
       "    </tr>\n",
       "    <tr>\n",
       "      <th>40028</th>\n",
       "      <td>2986</td>\n",
       "      <td>3859848</td>\n",
       "    </tr>\n",
       "    <tr>\n",
       "      <th>40027</th>\n",
       "      <td>2687</td>\n",
       "      <td>3859831</td>\n",
       "    </tr>\n",
       "    <tr>\n",
       "      <th>...</th>\n",
       "      <td>...</td>\n",
       "      <td>...</td>\n",
       "    </tr>\n",
       "    <tr>\n",
       "      <th>6</th>\n",
       "      <td>5691</td>\n",
       "      <td>-2</td>\n",
       "    </tr>\n",
       "    <tr>\n",
       "      <th>7</th>\n",
       "      <td>6468</td>\n",
       "      <td>-2</td>\n",
       "    </tr>\n",
       "    <tr>\n",
       "      <th>8</th>\n",
       "      <td>31014</td>\n",
       "      <td>-2</td>\n",
       "    </tr>\n",
       "    <tr>\n",
       "      <th>9</th>\n",
       "      <td>14855</td>\n",
       "      <td>-2</td>\n",
       "    </tr>\n",
       "    <tr>\n",
       "      <th>0</th>\n",
       "      <td>34457</td>\n",
       "      <td>-2</td>\n",
       "    </tr>\n",
       "  </tbody>\n",
       "</table>\n",
       "<p>40032 rows × 2 columns</p>\n",
       "</div>"
      ],
      "text/plain": [
       "       CallerNum    count\n",
       "40031          0  3859874\n",
       "40030       2982  3859863\n",
       "40029          1  3859856\n",
       "40028       2986  3859848\n",
       "40027       2687  3859831\n",
       "...          ...      ...\n",
       "6           5691       -2\n",
       "7           6468       -2\n",
       "8          31014       -2\n",
       "9          14855       -2\n",
       "0          34457       -2\n",
       "\n",
       "[40032 rows x 2 columns]"
      ]
     },
     "execution_count": 13,
     "metadata": {},
     "output_type": "execute_result"
    }
   ],
   "source": [
    "type_counts.sort_values(by = 'count', ascending = False)"
   ]
  },
  {
   "cell_type": "code",
   "execution_count": 14,
   "metadata": {},
   "outputs": [
    {
     "data": {
      "text/plain": [
       "69872484    1\n",
       "69733739    1\n",
       "79822197    1\n",
       "73528692    1\n",
       "74632563    1\n",
       "           ..\n",
       "66885796    1\n",
       "68512472    1\n",
       "69141205    1\n",
       "77711441    1\n",
       "62849024    1\n",
       "Name: CallReportNum, Length: 40032, dtype: int64"
      ]
     },
     "execution_count": 14,
     "metadata": {},
     "output_type": "execute_result"
    }
   ],
   "source": [
    "smile.CallReportNum.value_counts()"
   ]
  },
  {
   "cell_type": "code",
   "execution_count": 15,
   "metadata": {},
   "outputs": [
    {
     "data": {
      "text/html": [
       "<div>\n",
       "<style scoped>\n",
       "    .dataframe tbody tr th:only-of-type {\n",
       "        vertical-align: middle;\n",
       "    }\n",
       "\n",
       "    .dataframe tbody tr th {\n",
       "        vertical-align: top;\n",
       "    }\n",
       "\n",
       "    .dataframe thead th {\n",
       "        text-align: right;\n",
       "    }\n",
       "</style>\n",
       "<table border=\"1\" class=\"dataframe\">\n",
       "  <thead>\n",
       "    <tr style=\"text-align: right;\">\n",
       "      <th></th>\n",
       "      <th>CallerNum</th>\n",
       "      <th>count</th>\n",
       "    </tr>\n",
       "  </thead>\n",
       "  <tbody>\n",
       "    <tr>\n",
       "      <th>40031</th>\n",
       "      <td>0</td>\n",
       "      <td>3859874</td>\n",
       "    </tr>\n",
       "    <tr>\n",
       "      <th>40030</th>\n",
       "      <td>2982</td>\n",
       "      <td>3859863</td>\n",
       "    </tr>\n",
       "    <tr>\n",
       "      <th>40029</th>\n",
       "      <td>1</td>\n",
       "      <td>3859856</td>\n",
       "    </tr>\n",
       "    <tr>\n",
       "      <th>40028</th>\n",
       "      <td>2986</td>\n",
       "      <td>3859848</td>\n",
       "    </tr>\n",
       "    <tr>\n",
       "      <th>40027</th>\n",
       "      <td>2687</td>\n",
       "      <td>3859831</td>\n",
       "    </tr>\n",
       "    <tr>\n",
       "      <th>...</th>\n",
       "      <td>...</td>\n",
       "      <td>...</td>\n",
       "    </tr>\n",
       "    <tr>\n",
       "      <th>6</th>\n",
       "      <td>5691</td>\n",
       "      <td>-2</td>\n",
       "    </tr>\n",
       "    <tr>\n",
       "      <th>7</th>\n",
       "      <td>6468</td>\n",
       "      <td>-2</td>\n",
       "    </tr>\n",
       "    <tr>\n",
       "      <th>8</th>\n",
       "      <td>31014</td>\n",
       "      <td>-2</td>\n",
       "    </tr>\n",
       "    <tr>\n",
       "      <th>9</th>\n",
       "      <td>14855</td>\n",
       "      <td>-2</td>\n",
       "    </tr>\n",
       "    <tr>\n",
       "      <th>0</th>\n",
       "      <td>34457</td>\n",
       "      <td>-2</td>\n",
       "    </tr>\n",
       "  </tbody>\n",
       "</table>\n",
       "<p>40032 rows × 2 columns</p>\n",
       "</div>"
      ],
      "text/plain": [
       "       CallerNum    count\n",
       "40031          0  3859874\n",
       "40030       2982  3859863\n",
       "40029          1  3859856\n",
       "40028       2986  3859848\n",
       "40027       2687  3859831\n",
       "...          ...      ...\n",
       "6           5691       -2\n",
       "7           6468       -2\n",
       "8          31014       -2\n",
       "9          14855       -2\n",
       "0          34457       -2\n",
       "\n",
       "[40032 rows x 2 columns]"
      ]
     },
     "execution_count": 15,
     "metadata": {},
     "output_type": "execute_result"
    }
   ],
   "source": [
    "type_counts.sort_values(by = 'count', ascending = False)"
   ]
  },
  {
   "cell_type": "code",
   "execution_count": 16,
   "metadata": {
    "scrolled": true
   },
   "outputs": [
    {
     "data": {
      "text/plain": [
       "CallReportNum                                                           0\n",
       "ReportVersion                                                           0\n",
       "CallDateAndTimeStart                                                    0\n",
       "CallDateAndTimeEnd                                                      0\n",
       "CallLength                                                              0\n",
       "CallerNum                                                               0\n",
       "PhoneWorkerNum                                                          0\n",
       "CityName                                                              628\n",
       "CountyName                                                            347\n",
       "StateProvince                                                           7\n",
       "CountryName                                                           345\n",
       "PostalCode                                                           2640\n",
       "Narrative                                                           34712\n",
       "EnteredByWorkerNum                                                      0\n",
       "EnteredOn                                                               0\n",
       "Reviewed                                                                0\n",
       "FeedbackStatus                                                          0\n",
       "ReferralsMade                                                       37602\n",
       "OrgNum                                                                  0\n",
       "People_in_Household                                                  1450\n",
       "BirthYear                                                               0\n",
       "Are_you_limited_in_what_you_can_eat?                                 6276\n",
       "Dental_Clinic                                                       25982\n",
       "commit_to_referral                                                  10778\n",
       "Did_you_help_in these_other_areas                                   34934\n",
       "Do_you_need_help_in_these_other_areas                               30401\n",
       "appearance_of_your_mouth_and_teeth_affected_your_quality_of_life     6800\n",
       "condition_of_your_mouth_and_teeth                                    6234\n",
       "next_step_for_client_encounter                                      33992\n",
       "next_step_for_clients_encounter                                     30178\n",
       " Dental_Clinic                                                      39304\n",
       "Transportation_Barriers                                             37207\n",
       "barriers_for_finding_consistent_dental_home                          5418\n",
       "outcome_for_the_client                                              39437\n",
       "Upload_Before_Picture_on_Finish_Tab                                 38587\n",
       "Is_patient_of_record_date_if_yes_last_seen                          36504\n",
       "Was_initial_appointment_made                                        35704\n",
       "Was_initial_transportation_assistance_or_referral_provided          36257\n",
       "Gender                                                                421\n",
       "Household_Income_Level                                               1884\n",
       "How_did_you_first_hear_about_the_SMILE60+                            2084\n",
       "Preferred_Language/Language_Needed                                  28313\n",
       "Race/Ethnicity                                                       3578\n",
       "What_other_assistance_programs_are_you_on                           20028\n",
       "last_time_you_visited_your_dentist                                   2808\n",
       "Upload_After_Picture_on_Finish_Tab                                  40031\n",
       "Is_the_treatment_plan_completed                                     40028\n",
       "Was_a_treatment_plan_developed                                      40027\n",
       "What_car_ was_provided_to_the_enrollee                              15183\n",
       "Dental_Insurance                                                     2522\n",
       "Do_they_pre_qualify_for_SMILE_ON_60+                                 3241\n",
       "What_is_the_next_step_for_clients_encounter                         28110\n",
       "What_is_the_next_step_for_clients_encounter.1                       14115\n",
       "Number_of_Lower_Natural_Teeth                                       35449\n",
       "Enroller_ID                                                          7231\n",
       "Enroller_Location                                                   12349\n",
       "dtype: int64"
      ]
     },
     "execution_count": 16,
     "metadata": {},
     "output_type": "execute_result"
    }
   ],
   "source": [
    "smile.isna().sum()"
   ]
  },
  {
   "cell_type": "code",
   "execution_count": 17,
   "metadata": {},
   "outputs": [],
   "source": [
    "smile.dropna(axis='index',subset=['PostalCode'],inplace=True)"
   ]
  },
  {
   "cell_type": "code",
   "execution_count": 18,
   "metadata": {},
   "outputs": [
    {
     "data": {
      "text/plain": [
       "479"
      ]
     },
     "execution_count": 18,
     "metadata": {},
     "output_type": "execute_result"
    }
   ],
   "source": [
    "len(smile['PostalCode'].unique())"
   ]
  },
  {
   "cell_type": "code",
   "execution_count": 19,
   "metadata": {},
   "outputs": [],
   "source": [
    "zipcodes=pd.DataFrame()"
   ]
  },
  {
   "cell_type": "code",
   "execution_count": 20,
   "metadata": {},
   "outputs": [],
   "source": [
    "\n",
    "smile['PostalCode']=smile['PostalCode'].astype(int) #to convert any data type"
   ]
  },
  {
   "cell_type": "code",
   "execution_count": 21,
   "metadata": {},
   "outputs": [
    {
     "data": {
      "text/plain": [
       "dtype('int32')"
      ]
     },
     "execution_count": 21,
     "metadata": {},
     "output_type": "execute_result"
    }
   ],
   "source": [
    "smile['PostalCode'].dtypes"
   ]
  },
  {
   "cell_type": "code",
   "execution_count": 22,
   "metadata": {},
   "outputs": [],
   "source": [
    "zipcodes['Name']=smile['PostalCode'].unique()"
   ]
  },
  {
   "cell_type": "code",
   "execution_count": 23,
   "metadata": {},
   "outputs": [
    {
     "name": "stdout",
     "output_type": "stream",
     "text": [
      "<class 'pandas.core.frame.DataFrame'>\n",
      "RangeIndex: 479 entries, 0 to 478\n",
      "Data columns (total 1 columns):\n",
      " #   Column  Non-Null Count  Dtype\n",
      "---  ------  --------------  -----\n",
      " 0   Name    479 non-null    int32\n",
      "dtypes: int32(1)\n",
      "memory usage: 2.0 KB\n"
     ]
    }
   ],
   "source": [
    "zipcodes.info()"
   ]
  },
  {
   "cell_type": "code",
   "execution_count": 24,
   "metadata": {},
   "outputs": [
    {
     "name": "stdout",
     "output_type": "stream",
     "text": [
      "Requirement already satisfied: geopy in c:\\users\\derej\\anaconda3\\lib\\site-packages (2.0.0)\n",
      "Requirement already satisfied: geographiclib<2,>=1.49 in c:\\users\\derej\\anaconda3\\lib\\site-packages (from geopy) (1.50)\n"
     ]
    }
   ],
   "source": [
    "!pip install geopy"
   ]
  },
  {
   "cell_type": "code",
   "execution_count": 25,
   "metadata": {},
   "outputs": [],
   "source": [
    "from geopy.geocoders import Nominatim"
   ]
  },
  {
   "cell_type": "code",
   "execution_count": 26,
   "metadata": {},
   "outputs": [],
   "source": [
    "geolocator=Nominatim(user_agent='app')"
   ]
  },
  {
   "cell_type": "code",
   "execution_count": 27,
   "metadata": {},
   "outputs": [],
   "source": [
    "lat=[]\n",
    "lon=[]\n",
    "for PostalCode in zipcodes['Name']:\n",
    "    PostalCode=geolocator.geocode(PostalCode)\n",
    "    if PostalCode is None:\n",
    "        lat.append(np.nan)\n",
    "        lon.append(np.nan)\n",
    "    else:\n",
    "        lat.append(PostalCode.latitude)\n",
    "        lon.append(PostalCode.longitude)\n",
    "        \n"
   ]
  },
  {
   "cell_type": "code",
   "execution_count": 28,
   "metadata": {},
   "outputs": [
    {
     "name": "stdout",
     "output_type": "stream",
     "text": [
      "[36.5070515, 36.1919766, 35.84836413832144, 36.349474799999996, 36.5562925, 41.0884719, 35.1320489, 35.1929135, 45.1557045711993, 52.3033089, 44.9766803, 45.1788433, 36.136192393729964, 51.33589815, 36.0046420492625, 35.3607953, 48.90114544654547, 35.0847836, 36.033811817299544, 35.1977704, 46.21387032164197, 35.22270971261366, 28.4389661, 35.11562283224808, 35.1156879, 35.1208432, 48.95911796684493, 49.003861989629634, 48.96019492993491, 28.4013608, 36.1775873, 36.40475556222848, 36.03177581078069, 45.5226884, 36.09860775, 35.0076179, 40.5104064, 35.99291319240362, 35.808814669640995, 35.1450266, 35.71785576845994, 35.0453268, 36.3448703, 36.53867395, 35.447468613688, 36.0452344, 45.4594325, 28.44276515, 36.591844, 48.93320001582219, 52.21187685, 36.04087317076563, 36.02970195287453, 36.1283217, 36.07130885209599, 36.5075757, 35.206276837587204, 49.00616961818182, 35.0625066, 36.03817498926674, 45.50760803127412, 36.00281730888268, 36.032171418932734, 36.022214334896056, 52.3108256, 35.223133150466296, 36.19273483401138, 35.1589307, 35.9218169, 36.01898889658525, 40.46479505, 35.0649376, 35.99852640866239, 36.05075630592753, 49.22378226458332, 36.4782682, 36.0332193, 36.0774048, 49.14401773773951, 45.3369657, 36.0513595, 35.8508014, 45.45666480846352, 35.25457174931614, 35.9181217, 35.47009562528667, 35.7006958, 36.47321565, 36.0376618, 35.7832186, 36.40477779570825, 40.85688304, 45.898809, 35.1434877, 36.560548764956344, 51.37854055, 36.1021173, 35.99200187815766, 35.198568085010784, 36.43920562686963, 35.4238401, 36.18253266131275, 36.05149784237899, 36.187271472547216, 45.3479360485524, 51.547258299999996, 36.0947393, 36.2327869, 46.3563444, 36.02151558807124, 47.33704255, 35.922202869617905, 45.5084383, 46.3255712, 36.11620745732517, 35.9838151, 35.9558763, 45.403426818444736, 36.1381127, 36.176753, 35.23730202391296, 51.3718529, 35.03805205541392, 35.833655938522746, 35.91311168792829, 36.06251012901322, 36.5333298, 35.814408261220215, 36.525114706024, 51.37745, 36.1989886, 47.4377007, 36.0174492, 35.97198804021918, 36.4776, 36.57965648293124, 45.44234292719337, 36.3063346, 36.12509004507102, 36.32367543376476, 35.7955664, 45.43524258638578, 35.9802157, 35.6374312, 36.3895711, 35.92043609640166, 36.5032061173034, 47.51942715, 35.0993449, 45.206523181229095, 35.5296895, 36.1389922, 36.05227887558271, 28.472538541481583, 45.203839599999995, 36.234957461000974, 36.262703, 35.96048179697014, 35.23276955870733, 35.1977729783159, 51.546000990255834, 36.02445543527459, 36.34237434303942, 36.0156282, 45.738715565026546, 36.373901736547474, 45.5274697356128, 48.9683288, 45.1585726, 36.018746603266656, 36.191860218146246, 36.0040736, 35.85730564255883, 35.1527308, 48.87778397591308, 35.873648948861394, 55.73141139014466, 36.352059, 36.182616577326684, 35.867871626596475, 35.8255645, 36.0940163, 36.225745663560495, 48.95783934950496, 35.71420504021184, 45.24086, 36.10178561440383, 35.9472114, 35.9657286, 51.534080348913825, 49.18291576102724, 45.631829815415024, 41.6255383, 49.050364353501905, 49.028170019075155, 36.280583998876686, 43.49940253333333, 35.96902877401547, 51.5096417, 36.163399404623625, 35.9697847, 36.256590628515674, 51.435824049999994, 45.35600139423289, 41.12885635, 35.81237315398974, 47.152305549999994, 35.956323181187734, 36.108024, 46.97879615, 43.57516346963993, 49.082050945036286, 35.628812, 45.391965529020744, 35.622171971593836, 56.211956587440376, 36.013627299999996, 36.274105481481485, 35.35310177059465, 45.447732061143576, 35.980667856029605, 36.278172, 35.88163392002556, 36.03900287964165, 36.3759856, 36.0284392, 51.51667942617347, 45.320777775701416, 36.09398197983975, 49.10772226036037, 45.70142071751953, 36.40925346864598, 36.06517265, 35.78110432849119, 49.11505920179597, 35.338170908853805, 35.19033434982209, 52.578343450000006, 35.02908002500231, 46.01058885, 45.39549465, 35.431290098089406, 35.152412749999996, 45.99558315577, 36.17978096819036, 48.887258126238734, 45.1939493, 45.39025403337049, 45.38177505, 46.01316668380967, 36.00067418648651, 34.99988860008193, 47.42703315, 36.2221192, 35.638829, 56.116837149999995, 35.022465330756184, 36.035078162270366, 47.32462725327059, 56.19610094739259, 35.9728119, 36.05849409191516, 46.3567255418206, 49.01249924060913, 36.3044470010801, 49.07662379352516, 45.8974954, 36.004123017288606, 36.110210200778354, 48.82431870476191, 36.51196424219894, 49.00311933921977, 49.2090095116143, 35.76367157278805, 55.730926259347406, 36.02871775484443, 35.68987170364173, 46.0632896, 36.57507302879912, 36.58363390625001, 49.195466596078454, 36.415648363207794, 45.3594654, 49.26542862652438, 36.068809808582, 36.308395450000006, 36.54187985253592, 35.03710961496265, 36.2614054, 35.775308107248044, 36.34188802848161, 36.1566041, 35.7009454, 35.91448813391771, 35.74576832259704, 46.03607911921904, 49.1077049656, 36.066705459758516, 36.00990543075633, 36.0870955546254, 45.4948463, 36.34263977024351, 61.26572359789834, 45.184001831212534, 35.84507069400662, 45.93609395464549, 36.572301268292684, 35.826627427143045, 55.7865459159024, 35.732957385337066, 35.99998524185768, 45.3384894, 35.82385535, 45.6099709, 36.0057703057299, 36.59436318750001, 52.1021184, 45.27538105, 47.529724400000006, 36.10119442426309, 45.20800725, 40.36425112018683, 51.7008329, 47.120479558307395, 35.95545617962741, 35.344419040832385, 36.297309646484656, 35.9843640349314, 35.629975712435176, 45.414707239916325, 35.844908579192555, 35.84557551502785, 51.5597925, 34.0603673, 36.6424073151937, 25.0541386822563, 35.0300949, 35.07230499304558, 36.11858733633047, 48.81223476847935, 35.932221150000004, 35.792981, 36.0603627023976, 48.81228780905697, 45.471300257141216, 48.91988540011961, 48.82142369168482, 35.60390559205275, 45.3922233, 35.776511400000004, 36.07367979236365, 48.76996362091314, 45.742932350000004, 36.126405802088314, 36.42765270942498, 35.050707667943364, 35.506957417169176, 35.9759398, 48.9741374, 35.72793911203176, 49.2752952, 25.035914968193065, 25.04069169336301, 35.49583090053906, 36.46903740532626, 34.9774377, 52.025778700000004, 35.64900510133935, 45.3030743, 36.20773014110054, 48.853864900000005, 45.41917591503288, 56.215639994344414, 36.49458420561614, 54.225003, 49.02013264958971, 36.156560619783505, 35.239105699999996, 35.983743096510274, 47.53081765, 55.73175636347779, 35.652142183707916, 52.3918378, 49.20390048795181, -21.5743663, 36.56989873496293, 36.19673662789685, 47.337912994814204, 35.82422036780048, 40.9241505, 35.87942783281291, 35.82550151171849, 36.35175935540871, 35.67624774083475, 35.36428845638131, 35.40854089870991, 36.34666091138818, 36.18585531362651, 35.9064198, 36.38352842288861, 35.60964820169846, 35.32472671508872, 49.00006813203082, 46.035998, 35.7947418, 52.64288875, 35.33407331417559, 45.99486319637714, 55.726400754497256, 35.04633488077917, 36.48513536263512, 35.2232403, 36.22472239706727, 49.257228355038755, 36.31955388423127, 36.19264882116542, 48.856330568150675, 35.73429274822401, 45.76575870026581, 35.63217667840597, 49.18836522070177, 35.89494480322824, 35.0254951, 35.02096502007493, 35.1194982537033, 45.520604, 49.05389356643323, 35.10658085, 36.34587476453247, 35.95846015, 24.3735859, 35.97449535133027, 36.56679958259216, 45.88210198348277, 61.29776851594521, 47.619714195715794, 45.3319894, 49.089661941745895, 51.42222185, 36.16614689342563, 49.08616963099384, 48.76477879154031, 36.056601667975286, 35.0465839, 49.16362769247975, 35.851729145596366, 36.408000651309194, 36.40564139171952, 36.013333070402176, 51.3616784, 35.045559159657934, 35.893056876619546, 35.000849063402306, 35.149224849999996, 35.42217249573751, 35.03673664857488, 35.03324303164893, 51.65555665, 35.9387967, 34.9623, 35.0940205, 36.13264692860238, 35.05143296303022, 61.49261838606688, 47.24442495, 35.97663165765364, 35.64083610856244, 35.59470254213038, 48.99366457738093, 45.05021960095621, 49.04031702711862, 35.7508616, 35.443088809747806, 35.27258915, 48.98710743215636, 35.20560960195435, 35.18233180272484, 35.04162416308708, 49.10120989069766] [-86.7414593, -86.8098676, 129.22771275058656, -82.333395, -87.4247588, -5.889672579841414, -90.0406625, -89.8915236, 11.354908568563625, 10.485945, 5.795346859150456, 11.1530397, -82.42459575238452, 9.90971063653726, -83.98036699221497, -89.6718405, 14.666483391813138, -89.9872144, 129.3423273902066, -89.924783, 11.120702023716403, -90.00547537318492, -16.3136489, -84.83569676020059, -89.8933472, -90.0676478, 14.860055789304809, 15.254620988148154, 14.928935097396966, -16.32134441662648, -82.7888017, -83.00082668910323, 129.3390493623549, 5.2579384, -82.92665206131454, -89.9033257, -6.0096459, 129.21195647371104, 129.5030105496724, -90.0521571, -84.04012333024731, -89.88039508008184, -82.2085806, -87.35149200000001, -89.80856557744504, -86.6638576, 4.883049258945427, -16.3105015, -82.178121, 14.620444521992228, 10.502027212968748, -82.54141585243029, 129.33403929903474, -86.7131941, 129.39100276306178, -87.3117153, -89.80759905791395, 14.05479229545454, -89.7507837, 129.35083349363578, 10.896935640839134, 129.1977640853304, 129.34483051323255, 129.34562994542395, 10.5504351, -89.9281212655692, -82.66004152954261, -90.0452058, -83.9564873, 129.3433070394285, -6.040027718111216, -90.0283684, 129.34147151077184, -83.9250783372536, 14.895146422916673, -82.5040336, -83.88794, -86.8922197, 15.009174817205238, 11.2429163, -86.7198914, 129.2073439, 10.999712145182293, -85.75555141200367, -84.0823797, -86.77970884487857, -85.7879881, -82.26632929862217, 129.3638066, -83.8337523, -82.44770169417993, -6.25030986, 10.849638891189562, -90.0451365, -82.66153833429418, 10.32959249961368, -87.1090097, -83.84925992886284, -87.01567261284225, -82.34039636417614, -87.4195401, -86.74164297692593, 129.37880902080445, -83.27073320602209, 10.882835856121092, 9.909090200000007, -86.913214, -86.7503436, 11.026078152872488, 129.33714766846015, 0.3745484684389847, -84.00583503761057, 11.2439443, 11.023711903582802, -87.0377958832133, -83.9238974, -84.13102530373135, 10.84125824141515, -86.7632389, -86.7711535, -84.59313236285026, 10.4271889, -84.73566693198191, -84.01984293002972, -83.59010532582063, 129.3500802272527, -82.3147326, -83.5810736334411, -82.50276469594395, 9.8079156, -86.72668, 0.797269, -84.0434552, -83.90216949801545, -86.6470822, -82.57336692742506, 11.005622221529523, 128.7878591, -85.92065809425178, -87.70719113826503, -83.7852796, 10.989350088103526, -83.9562969, -88.8298638, 127.9541374, 129.24635824466517, -87.53181001183617, 0.722283831567917, -89.8489174, 5.763314536968719, -87.1935135, -86.7893517, 129.36149578270548, -16.254614536038897, 5.699736, -86.30984547078286, -86.6478508, -86.5239182697463, -85.83037146522797, -85.5168920524397, 9.954306962456846, 129.34369741495235, -81.9770233791843, 129.3662941, 10.926193741967516, -81.75826209371004, 10.834066409578114, 14.4862009, 5.7597562, 129.35576938780426, -86.80390724963253, -86.57087422784238, 129.2059164234037, -86.5732912, 14.94088271862464, -84.09779785391048, 24.337537873572455, -87.006121, -86.59889371085829, -84.70273978108199, -86.0562382, -86.7868957, -84.01219338787588, 15.542390504950498, -84.30821482703969, 11.3381755, -87.82377746783393, -83.6760005, -86.8159874, 9.935202898919748, 14.38388065047522, 10.97735364599945, 34.45093328743322, 13.766881169612816, 14.880531265317925, -83.04881501404468, 20.893509266666666, 129.4131241363963, 9.963296349999998, -86.78415607043087, -84.1429356, -86.82143407909378, 9.815201899999998, 10.733852901545113, -6.653919942943103, -86.18372699627494, 0.9982676500000023, -86.66861541925267, -86.223581, 0.7137882720320943, 21.364550650733882, 13.694573519768694, -87.5702263, 10.91356297534443, -86.57218573469501, 15.63185446109635, -84.22094515654898, -82.28847574074072, -86.22180313257385, 11.161554683182759, 129.40871666120253, -83.2566825, -84.15864522443276, 129.37593477048605, 128.3816248, -85.719672, 9.94490006361738, 5.972440849610666, -86.13748096522599, 14.012204059459458, 5.298514381132524, -86.14230426149848, 129.3783624510406, -87.48505841202372, 13.688379669748755, -87.7507329975452, -88.42642204206146, 10.77489541095941, -86.82691061179655, 11.228308649999999, 11.303161256950613, -87.33336768538929, -85.26781410492967, 10.838450412114417, -85.96098732732821, 13.887885967866916, 5.7316773, 11.02809245958528, 5.760588259776835, 11.188400406809963, 129.19685970972287, -85.49305131601311, 0.2906795039502968, -85.4618971, -88.74651, 15.563668660109592, -86.36614469439832, 129.35481318832797, 0.7065086675835109, 15.620830490216795, -87.3055718, 129.37666310633333, 10.670132345715448, 15.450471730964464, -88.68756316016794, 15.530045461870502, 11.042433843284687, 129.19685935404655, -83.47956107862518, 14.526924166666657, -83.26284935303617, 15.367109908349407, 14.8631582848162, -85.65968041923742, 24.399588435490653, -85.04785297738111, -84.82543821282881, 11.5239053, -83.62553852118353, -83.58013750000002, 14.344215184967322, -84.92004708147674, 10.847447727000448, 14.924402337499982, -88.28705315752235, -84.21338264378744, -85.50014428408848, -86.99811374875196, 128.6810878, -87.7988972212461, -88.85037596982465, -85.2614, -87.2276681, -88.76434798570469, -85.4584715735084, 10.731093293607694, 15.131820559199994, -88.80904095452341, -84.88402906549963, -83.28832932812018, 11.104588, -88.12304928381184, 23.9552410760167, 5.732881933734991, 129.1740346733312, 11.019984187176442, -83.06867906807842, 128.75638640532753, 24.119511618878388, -83.47217796703468, -83.40606459860123, 5.130837, -89.293854475, 5.2164962, -87.95744087498036, -82.17480093750002, 10.3524456, 5.649178515290419, 0.5549582270340043, -83.94547624875983, 5.7643325417396065, -5.992499256390282, 9.86356032950808, 0.4403325704063789, -85.45443938087395, -84.29469345928955, -82.36442959890736, 129.40211617242144, -86.68988199556892, 11.190910941795593, -84.50646784998969, -85.51110121289948, 9.9359745, -84.1667031, -82.15994106816773, 121.44812152634901, -85.25505845, -87.42051031266162, -84.0320929852862, 14.254004422502295, -85.00151558478225, -83.560174, 129.37172713208994, 14.928576479997796, 11.06788086061978, 14.897549480152172, 14.43459786126117, -85.92982977475343, 11.2937016, -86.89594117326342, -86.03384604338501, 14.964709867387914, 5.171186441449221, -88.97452091398523, -89.06785921959, -86.42508723133528, -88.3611680350317, -85.7368809, 14.5030002, -84.66181917107076, 16.9806304, 121.45043229907151, 121.42255172846026, -85.01182220135244, -83.83720731106291, -85.2721057, 10.534340341684528, 128.7063217552554, 10.8162054, -85.01350372967998, 14.487444378470588, 11.086635905320724, 15.655221683902749, -86.60451740903767, 10.1342009, 14.76238303813097, -86.77918919784439, -85.18075612688017, -88.42442970375583, 0.31375722402799766, 24.336246266921776, -88.11449292374019, 10.631956517474126, 14.5117784313253, -45.4462226, -85.15711186344157, -83.76052554356171, 1.0015631078809912, -85.5449356956868, -5.6912591, -87.48146766239347, -83.23919888896282, -83.22613443370555, 129.46073195978693, -85.71375205565207, -84.48927269423852, -85.64576189625171, -84.82894968615219, -84.4617027, -84.07974109204629, -87.83756960252491, -84.53453253309009, 14.45069209587083, 11.003650965237519, -84.2600803, 11.128190836363693, -87.28465367667043, 11.259581801828359, 24.337098551769984, -88.51774848240365, -85.21888334430412, -86.2427047, -85.63847249962554, 15.006011598449618, -84.17181580250487, -89.02227701459601, 14.408114162328774, -87.3298162649997, 10.813154697237117, -85.17060043204434, 15.068307260350874, -87.32169986210538, -85.1718223, -84.39898734384602, -86.80080787456063, 11.021490176183873, 14.42333053902758, -85.26891885, -83.82138263019657, -83.93218358339902, 54.5052353, -88.96347167305436, -85.02373104878242, 10.736185319284475, 23.636382552560526, 0.553415974632918, 6.126894036477801, 14.355034145403687, 10.361379300849514, -85.79564111571815, 15.432129826107195, 14.176795800506744, 129.37284411560316, -85.2250635, 14.587956681250036, -87.20605037903206, -85.16814816690093, -85.45591307081492, 129.35326473695363, 10.073779712935131, -85.31231003938264, 129.2424765466173, -85.33018813959353, -85.17838656838326, -88.30266753179689, -87.29631148278357, -85.30457835933952, 9.8292922, -85.03565868665353, -89.845222, -85.219283, -84.68310656373757, -87.60621574311332, 23.52904322082574, 0.773351691612439, -85.19528003745452, 128.74812989194353, -88.50734098144186, 14.148289039285716, 5.672774810932642, 13.869942488983057, -84.8218149, -85.09262572792404, -85.11980707826001, 14.669136924590152, -86.39832662113263, -85.06367746669636, -86.68819718726557, 15.041729491472866]\n"
     ]
    }
   ],
   "source": [
    "print(lat,lon)"
   ]
  },
  {
   "cell_type": "code",
   "execution_count": 29,
   "metadata": {},
   "outputs": [],
   "source": [
    "zipcodes['lat']=lat\n",
    "zipcodes['lon']=lon"
   ]
  },
  {
   "cell_type": "code",
   "execution_count": 30,
   "metadata": {},
   "outputs": [
    {
     "data": {
      "text/html": [
       "<div>\n",
       "<style scoped>\n",
       "    .dataframe tbody tr th:only-of-type {\n",
       "        vertical-align: middle;\n",
       "    }\n",
       "\n",
       "    .dataframe tbody tr th {\n",
       "        vertical-align: top;\n",
       "    }\n",
       "\n",
       "    .dataframe thead th {\n",
       "        text-align: right;\n",
       "    }\n",
       "</style>\n",
       "<table border=\"1\" class=\"dataframe\">\n",
       "  <thead>\n",
       "    <tr style=\"text-align: right;\">\n",
       "      <th></th>\n",
       "      <th>Name</th>\n",
       "      <th>lat</th>\n",
       "      <th>lon</th>\n",
       "    </tr>\n",
       "  </thead>\n",
       "  <tbody>\n",
       "    <tr>\n",
       "      <th>0</th>\n",
       "      <td>37172</td>\n",
       "      <td>36.507052</td>\n",
       "      <td>-86.741459</td>\n",
       "    </tr>\n",
       "    <tr>\n",
       "      <th>1</th>\n",
       "      <td>37208</td>\n",
       "      <td>36.191977</td>\n",
       "      <td>-86.809868</td>\n",
       "    </tr>\n",
       "    <tr>\n",
       "      <th>2</th>\n",
       "      <td>38111</td>\n",
       "      <td>35.848364</td>\n",
       "      <td>129.227713</td>\n",
       "    </tr>\n",
       "    <tr>\n",
       "      <th>3</th>\n",
       "      <td>37601</td>\n",
       "      <td>36.349475</td>\n",
       "      <td>-82.333395</td>\n",
       "    </tr>\n",
       "    <tr>\n",
       "      <th>4</th>\n",
       "      <td>37042</td>\n",
       "      <td>36.556292</td>\n",
       "      <td>-87.424759</td>\n",
       "    </tr>\n",
       "  </tbody>\n",
       "</table>\n",
       "</div>"
      ],
      "text/plain": [
       "    Name        lat         lon\n",
       "0  37172  36.507052  -86.741459\n",
       "1  37208  36.191977  -86.809868\n",
       "2  38111  35.848364  129.227713\n",
       "3  37601  36.349475  -82.333395\n",
       "4  37042  36.556292  -87.424759"
      ]
     },
     "execution_count": 30,
     "metadata": {},
     "output_type": "execute_result"
    }
   ],
   "source": [
    "zipcodes.head()"
   ]
  },
  {
   "cell_type": "code",
   "execution_count": 31,
   "metadata": {},
   "outputs": [],
   "source": [
    "zip_counts=smile.PostalCode.value_counts().reset_index()"
   ]
  },
  {
   "cell_type": "code",
   "execution_count": 32,
   "metadata": {},
   "outputs": [],
   "source": [
    "zip_counts.columns=['Name','count']"
   ]
  },
  {
   "cell_type": "code",
   "execution_count": 33,
   "metadata": {},
   "outputs": [
    {
     "data": {
      "text/html": [
       "<div>\n",
       "<style scoped>\n",
       "    .dataframe tbody tr th:only-of-type {\n",
       "        vertical-align: middle;\n",
       "    }\n",
       "\n",
       "    .dataframe tbody tr th {\n",
       "        vertical-align: top;\n",
       "    }\n",
       "\n",
       "    .dataframe thead th {\n",
       "        text-align: right;\n",
       "    }\n",
       "</style>\n",
       "<table border=\"1\" class=\"dataframe\">\n",
       "  <thead>\n",
       "    <tr style=\"text-align: right;\">\n",
       "      <th></th>\n",
       "      <th>Name</th>\n",
       "      <th>count</th>\n",
       "    </tr>\n",
       "  </thead>\n",
       "  <tbody>\n",
       "    <tr>\n",
       "      <th>0</th>\n",
       "      <td>37130</td>\n",
       "      <td>1119</td>\n",
       "    </tr>\n",
       "    <tr>\n",
       "      <th>1</th>\n",
       "      <td>37013</td>\n",
       "      <td>966</td>\n",
       "    </tr>\n",
       "    <tr>\n",
       "      <th>2</th>\n",
       "      <td>37207</td>\n",
       "      <td>934</td>\n",
       "    </tr>\n",
       "    <tr>\n",
       "      <th>3</th>\n",
       "      <td>37211</td>\n",
       "      <td>787</td>\n",
       "    </tr>\n",
       "    <tr>\n",
       "      <th>4</th>\n",
       "      <td>37115</td>\n",
       "      <td>751</td>\n",
       "    </tr>\n",
       "    <tr>\n",
       "      <th>...</th>\n",
       "      <td>...</td>\n",
       "      <td>...</td>\n",
       "    </tr>\n",
       "    <tr>\n",
       "      <th>474</th>\n",
       "      <td>38369</td>\n",
       "      <td>1</td>\n",
       "    </tr>\n",
       "    <tr>\n",
       "      <th>475</th>\n",
       "      <td>37409</td>\n",
       "      <td>1</td>\n",
       "    </tr>\n",
       "    <tr>\n",
       "      <th>476</th>\n",
       "      <td>37843</td>\n",
       "      <td>1</td>\n",
       "    </tr>\n",
       "    <tr>\n",
       "      <th>477</th>\n",
       "      <td>38339</td>\n",
       "      <td>1</td>\n",
       "    </tr>\n",
       "    <tr>\n",
       "      <th>478</th>\n",
       "      <td>38548</td>\n",
       "      <td>1</td>\n",
       "    </tr>\n",
       "  </tbody>\n",
       "</table>\n",
       "<p>479 rows × 2 columns</p>\n",
       "</div>"
      ],
      "text/plain": [
       "      Name  count\n",
       "0    37130   1119\n",
       "1    37013    966\n",
       "2    37207    934\n",
       "3    37211    787\n",
       "4    37115    751\n",
       "..     ...    ...\n",
       "474  38369      1\n",
       "475  37409      1\n",
       "476  37843      1\n",
       "477  38339      1\n",
       "478  38548      1\n",
       "\n",
       "[479 rows x 2 columns]"
      ]
     },
     "execution_count": 33,
     "metadata": {},
     "output_type": "execute_result"
    }
   ],
   "source": [
    "zip_counts"
   ]
  },
  {
   "cell_type": "code",
   "execution_count": 34,
   "metadata": {},
   "outputs": [],
   "source": [
    "zip_codes=zip_counts.merge(zipcodes,on='Name',how='left').dropna()"
   ]
  },
  {
   "cell_type": "code",
   "execution_count": 35,
   "metadata": {},
   "outputs": [
    {
     "data": {
      "text/html": [
       "<div>\n",
       "<style scoped>\n",
       "    .dataframe tbody tr th:only-of-type {\n",
       "        vertical-align: middle;\n",
       "    }\n",
       "\n",
       "    .dataframe tbody tr th {\n",
       "        vertical-align: top;\n",
       "    }\n",
       "\n",
       "    .dataframe thead th {\n",
       "        text-align: right;\n",
       "    }\n",
       "</style>\n",
       "<table border=\"1\" class=\"dataframe\">\n",
       "  <thead>\n",
       "    <tr style=\"text-align: right;\">\n",
       "      <th></th>\n",
       "      <th>Name</th>\n",
       "      <th>count</th>\n",
       "      <th>lat</th>\n",
       "      <th>lon</th>\n",
       "    </tr>\n",
       "  </thead>\n",
       "  <tbody>\n",
       "    <tr>\n",
       "      <th>0</th>\n",
       "      <td>37130</td>\n",
       "      <td>1119</td>\n",
       "      <td>47.337043</td>\n",
       "      <td>0.374548</td>\n",
       "    </tr>\n",
       "    <tr>\n",
       "      <th>1</th>\n",
       "      <td>37013</td>\n",
       "      <td>966</td>\n",
       "      <td>36.045234</td>\n",
       "      <td>-86.663858</td>\n",
       "    </tr>\n",
       "    <tr>\n",
       "      <th>2</th>\n",
       "      <td>37207</td>\n",
       "      <td>934</td>\n",
       "      <td>36.232787</td>\n",
       "      <td>-86.750344</td>\n",
       "    </tr>\n",
       "    <tr>\n",
       "      <th>3</th>\n",
       "      <td>37211</td>\n",
       "      <td>787</td>\n",
       "      <td>36.051359</td>\n",
       "      <td>-86.719891</td>\n",
       "    </tr>\n",
       "    <tr>\n",
       "      <th>4</th>\n",
       "      <td>37115</td>\n",
       "      <td>751</td>\n",
       "      <td>41.088472</td>\n",
       "      <td>-5.889673</td>\n",
       "    </tr>\n",
       "  </tbody>\n",
       "</table>\n",
       "</div>"
      ],
      "text/plain": [
       "    Name  count        lat        lon\n",
       "0  37130   1119  47.337043   0.374548\n",
       "1  37013    966  36.045234 -86.663858\n",
       "2  37207    934  36.232787 -86.750344\n",
       "3  37211    787  36.051359 -86.719891\n",
       "4  37115    751  41.088472  -5.889673"
      ]
     },
     "execution_count": 35,
     "metadata": {},
     "output_type": "execute_result"
    }
   ],
   "source": [
    "zip_codes.head()"
   ]
  },
  {
   "cell_type": "code",
   "execution_count": 36,
   "metadata": {},
   "outputs": [
    {
     "name": "stdout",
     "output_type": "stream",
     "text": [
      "Requirement already satisfied: folium in c:\\users\\derej\\anaconda3\\lib\\site-packages (0.11.0)\n",
      "Requirement already satisfied: branca>=0.3.0 in c:\\users\\derej\\anaconda3\\lib\\site-packages (from folium) (0.4.1)\n",
      "Requirement already satisfied: requests in c:\\users\\derej\\anaconda3\\lib\\site-packages (from folium) (2.24.0)\n",
      "Requirement already satisfied: jinja2>=2.9 in c:\\users\\derej\\anaconda3\\lib\\site-packages (from folium) (2.11.2)\n",
      "Requirement already satisfied: numpy in c:\\users\\derej\\anaconda3\\lib\\site-packages (from folium) (1.18.5)\n",
      "Requirement already satisfied: urllib3!=1.25.0,!=1.25.1,<1.26,>=1.21.1 in c:\\users\\derej\\anaconda3\\lib\\site-packages (from requests->folium) (1.25.9)\n",
      "Requirement already satisfied: idna<3,>=2.5 in c:\\users\\derej\\anaconda3\\lib\\site-packages (from requests->folium) (2.10)\n",
      "Requirement already satisfied: certifi>=2017.4.17 in c:\\users\\derej\\anaconda3\\lib\\site-packages (from requests->folium) (2020.6.20)\n",
      "Requirement already satisfied: chardet<4,>=3.0.2 in c:\\users\\derej\\anaconda3\\lib\\site-packages (from requests->folium) (3.0.4)\n",
      "Requirement already satisfied: MarkupSafe>=0.23 in c:\\users\\derej\\anaconda3\\lib\\site-packages (from jinja2>=2.9->folium) (1.1.1)\n"
     ]
    }
   ],
   "source": [
    "!pip install folium"
   ]
  },
  {
   "cell_type": "code",
   "execution_count": 37,
   "metadata": {},
   "outputs": [],
   "source": [
    "def generatebasemap(default_location=[36.507052,-86.741459],default_zoom_start=12):\n",
    "    basemap=folium.Map(location=default_location,zoom_start=default_zoom_start)\n",
    "    return basemap"
   ]
  },
  {
   "cell_type": "code",
   "execution_count": 38,
   "metadata": {},
   "outputs": [
    {
     "data": {
      "text/html": [
       "<div style=\"width:100%;\"><div style=\"position:relative;width:100%;height:0;padding-bottom:60%;\"><span style=\"color:#565656\">Make this Notebook Trusted to load map: File -> Trust Notebook</span><iframe src=\"about:blank\" style=\"position:absolute;width:100%;height:100%;left:0;top:0;border:none !important;\" data-html=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 onload=\"this.contentDocument.open();this.contentDocument.write(atob(this.getAttribute('data-html')));this.contentDocument.close();\" allowfullscreen webkitallowfullscreen mozallowfullscreen></iframe></div></div>"
      ],
      "text/plain": [
       "<folium.folium.Map at 0x24188e0e3d0>"
      ]
     },
     "execution_count": 38,
     "metadata": {},
     "output_type": "execute_result"
    }
   ],
   "source": [
    "import folium\n",
    "basemap=generatebasemap()\n",
    "basemap"
   ]
  },
  {
   "cell_type": "code",
   "execution_count": 39,
   "metadata": {},
   "outputs": [],
   "source": [
    "from folium.plugins import HeatMap"
   ]
  },
  {
   "cell_type": "code",
   "execution_count": 40,
   "metadata": {},
   "outputs": [
    {
     "data": {
      "text/plain": [
       "<folium.plugins.heat_map.HeatMap at 0x24189481c10>"
      ]
     },
     "execution_count": 40,
     "metadata": {},
     "output_type": "execute_result"
    }
   ],
   "source": [
    "HeatMap(zip_codes[['lat','lon','count']],zoom=20).add_to(basemap)"
   ]
  },
  {
   "cell_type": "code",
   "execution_count": 41,
   "metadata": {},
   "outputs": [
    {
     "data": {
      "text/html": [
       "<div style=\"width:100%;\"><div style=\"position:relative;width:100%;height:0;padding-bottom:60%;\"><span style=\"color:#565656\">Make this Notebook Trusted to load map: File -> Trust Notebook</span><iframe src=\"about:blank\" style=\"position:absolute;width:100%;height:100%;left:0;top:0;border:none !important;\" data-html=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 onload=\"this.contentDocument.open();this.contentDocument.write(atob(this.getAttribute('data-html')));this.contentDocument.close();\" allowfullscreen webkitallowfullscreen mozallowfullscreen></iframe></div></div>"
      ],
      "text/plain": [
       "<folium.folium.Map at 0x24188e0e3d0>"
      ]
     },
     "execution_count": 41,
     "metadata": {},
     "output_type": "execute_result"
    }
   ],
   "source": [
    "basemap"
   ]
  },
  {
   "cell_type": "code",
   "execution_count": 42,
   "metadata": {},
   "outputs": [],
   "source": [
    "from folium.plugins import FastMarkerCluster"
   ]
  },
  {
   "cell_type": "code",
   "execution_count": 43,
   "metadata": {},
   "outputs": [
    {
     "data": {
      "text/plain": [
       "<folium.plugins.fast_marker_cluster.FastMarkerCluster at 0x241894b1370>"
      ]
     },
     "execution_count": 43,
     "metadata": {},
     "output_type": "execute_result"
    }
   ],
   "source": [
    "FastMarkerCluster(zip_codes[['lat','lon','count']],zoom=20).add_to(basemap)"
   ]
  },
  {
   "cell_type": "code",
   "execution_count": 44,
   "metadata": {},
   "outputs": [
    {
     "data": {
      "text/html": [
       "<div style=\"width:100%;\"><div style=\"position:relative;width:100%;height:0;padding-bottom:60%;\"><span style=\"color:#565656\">Make this Notebook Trusted to load map: File -> Trust Notebook</span><iframe src=\"about:blank\" style=\"position:absolute;width:100%;height:100%;left:0;top:0;border:none !important;\" data-html=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 onload=\"this.contentDocument.open();this.contentDocument.write(atob(this.getAttribute('data-html')));this.contentDocument.close();\" allowfullscreen webkitallowfullscreen mozallowfullscreen></iframe></div></div>"
      ],
      "text/plain": [
       "<folium.folium.Map at 0x24188e0e3d0>"
      ]
     },
     "execution_count": 44,
     "metadata": {},
     "output_type": "execute_result"
    }
   ],
   "source": [
    "basemap"
   ]
  },
  {
   "cell_type": "code",
   "execution_count": 45,
   "metadata": {},
   "outputs": [
    {
     "data": {
      "text/html": [
       "<div>\n",
       "<style scoped>\n",
       "    .dataframe tbody tr th:only-of-type {\n",
       "        vertical-align: middle;\n",
       "    }\n",
       "\n",
       "    .dataframe tbody tr th {\n",
       "        vertical-align: top;\n",
       "    }\n",
       "\n",
       "    .dataframe thead th {\n",
       "        text-align: right;\n",
       "    }\n",
       "</style>\n",
       "<table border=\"1\" class=\"dataframe\">\n",
       "  <thead>\n",
       "    <tr style=\"text-align: right;\">\n",
       "      <th></th>\n",
       "      <th>CallReportNum</th>\n",
       "      <th>ReportVersion</th>\n",
       "      <th>CallDateAndTimeStart</th>\n",
       "      <th>CallDateAndTimeEnd</th>\n",
       "      <th>CallLength</th>\n",
       "      <th>CallerNum</th>\n",
       "      <th>PhoneWorkerNum</th>\n",
       "      <th>CityName</th>\n",
       "      <th>CountyName</th>\n",
       "      <th>StateProvince</th>\n",
       "      <th>...</th>\n",
       "      <th>Is_the_treatment_plan_completed</th>\n",
       "      <th>Was_a_treatment_plan_developed</th>\n",
       "      <th>What_car_ was_provided_to_the_enrollee</th>\n",
       "      <th>Dental_Insurance</th>\n",
       "      <th>Do_they_pre_qualify_for_SMILE_ON_60+</th>\n",
       "      <th>What_is_the_next_step_for_clients_encounter</th>\n",
       "      <th>What_is_the_next_step_for_clients_encounter.1</th>\n",
       "      <th>Number_of_Lower_Natural_Teeth</th>\n",
       "      <th>Enroller_ID</th>\n",
       "      <th>Enroller_Location</th>\n",
       "    </tr>\n",
       "  </thead>\n",
       "  <tbody>\n",
       "    <tr>\n",
       "      <th>0</th>\n",
       "      <td>81381827</td>\n",
       "      <td>SMILE ON 60+ Registration</td>\n",
       "      <td>11/25/2020 16:46</td>\n",
       "      <td>11/25/2020 16:48</td>\n",
       "      <td>2</td>\n",
       "      <td>3859874</td>\n",
       "      <td>136529</td>\n",
       "      <td>Springfield</td>\n",
       "      <td>Robertson</td>\n",
       "      <td>TN</td>\n",
       "      <td>...</td>\n",
       "      <td>NaN</td>\n",
       "      <td>NaN</td>\n",
       "      <td>NaN</td>\n",
       "      <td>No</td>\n",
       "      <td>Yes</td>\n",
       "      <td>Continued with Navigation</td>\n",
       "      <td>NaN</td>\n",
       "      <td>NaN</td>\n",
       "      <td>Matthew Walker Comprehensive Health Center Inc...</td>\n",
       "      <td>Provider Site</td>\n",
       "    </tr>\n",
       "    <tr>\n",
       "      <th>1</th>\n",
       "      <td>81381479</td>\n",
       "      <td>SMILE ON 60+ Registration</td>\n",
       "      <td>11/23/2020 16:36</td>\n",
       "      <td>11/23/2020 16:39</td>\n",
       "      <td>3</td>\n",
       "      <td>3859856</td>\n",
       "      <td>136529</td>\n",
       "      <td>Nashville</td>\n",
       "      <td>Davidson</td>\n",
       "      <td>TN</td>\n",
       "      <td>...</td>\n",
       "      <td>NaN</td>\n",
       "      <td>NaN</td>\n",
       "      <td>NaN</td>\n",
       "      <td>No</td>\n",
       "      <td>Yes</td>\n",
       "      <td>Continued with Navigation</td>\n",
       "      <td>NaN</td>\n",
       "      <td>NaN</td>\n",
       "      <td>Matthew Walker Comprehensive Health Center Inc...</td>\n",
       "      <td>Provider Site</td>\n",
       "    </tr>\n",
       "    <tr>\n",
       "      <th>2</th>\n",
       "      <td>81289447</td>\n",
       "      <td>SMILE ON 60+ Registration</td>\n",
       "      <td>11/23/2020 14:24</td>\n",
       "      <td>11/23/2020 14:26</td>\n",
       "      <td>2</td>\n",
       "      <td>3853796</td>\n",
       "      <td>141066</td>\n",
       "      <td>Memphis</td>\n",
       "      <td>Shelby</td>\n",
       "      <td>TN</td>\n",
       "      <td>...</td>\n",
       "      <td>NaN</td>\n",
       "      <td>NaN</td>\n",
       "      <td>NaN</td>\n",
       "      <td>No</td>\n",
       "      <td>Yes</td>\n",
       "      <td>Continued with Navigation</td>\n",
       "      <td>NaN</td>\n",
       "      <td>NaN</td>\n",
       "      <td>Church Health Center - Memphis</td>\n",
       "      <td>Provider Site</td>\n",
       "    </tr>\n",
       "    <tr>\n",
       "      <th>3</th>\n",
       "      <td>81280597</td>\n",
       "      <td>SMILE ON 60+ Registration</td>\n",
       "      <td>11/23/2020 12:02</td>\n",
       "      <td>11/23/2020 12:18</td>\n",
       "      <td>16</td>\n",
       "      <td>3853155</td>\n",
       "      <td>119513</td>\n",
       "      <td>Johnson City</td>\n",
       "      <td>Washington</td>\n",
       "      <td>TN</td>\n",
       "      <td>...</td>\n",
       "      <td>NaN</td>\n",
       "      <td>NaN</td>\n",
       "      <td>NaN</td>\n",
       "      <td>No</td>\n",
       "      <td>Yes</td>\n",
       "      <td>Continued with Navigation</td>\n",
       "      <td>NaN</td>\n",
       "      <td>NaN</td>\n",
       "      <td>Northeast Tennessee Community Health Centers I...</td>\n",
       "      <td>Provider Site</td>\n",
       "    </tr>\n",
       "    <tr>\n",
       "      <th>4</th>\n",
       "      <td>81270356</td>\n",
       "      <td>SMILE ON 60+ Registration</td>\n",
       "      <td>11/23/2020 9:02</td>\n",
       "      <td>11/23/2020 9:07</td>\n",
       "      <td>5</td>\n",
       "      <td>3852084</td>\n",
       "      <td>134393</td>\n",
       "      <td>Clarksville</td>\n",
       "      <td>Montgomery</td>\n",
       "      <td>TN</td>\n",
       "      <td>...</td>\n",
       "      <td>NaN</td>\n",
       "      <td>NaN</td>\n",
       "      <td>NaN</td>\n",
       "      <td>No</td>\n",
       "      <td>Yes</td>\n",
       "      <td>Continued with Navigation</td>\n",
       "      <td>NaN</td>\n",
       "      <td>NaN</td>\n",
       "      <td>Matthew Walker - Clarksville</td>\n",
       "      <td>Provider Site</td>\n",
       "    </tr>\n",
       "  </tbody>\n",
       "</table>\n",
       "<p>5 rows × 56 columns</p>\n",
       "</div>"
      ],
      "text/plain": [
       "   CallReportNum              ReportVersion CallDateAndTimeStart  \\\n",
       "0       81381827  SMILE ON 60+ Registration     11/25/2020 16:46   \n",
       "1       81381479  SMILE ON 60+ Registration     11/23/2020 16:36   \n",
       "2       81289447  SMILE ON 60+ Registration     11/23/2020 14:24   \n",
       "3       81280597  SMILE ON 60+ Registration     11/23/2020 12:02   \n",
       "4       81270356  SMILE ON 60+ Registration      11/23/2020 9:02   \n",
       "\n",
       "  CallDateAndTimeEnd  CallLength  CallerNum  PhoneWorkerNum      CityName  \\\n",
       "0   11/25/2020 16:48           2    3859874          136529   Springfield   \n",
       "1   11/23/2020 16:39           3    3859856          136529     Nashville   \n",
       "2   11/23/2020 14:26           2    3853796          141066       Memphis   \n",
       "3   11/23/2020 12:18          16    3853155          119513  Johnson City   \n",
       "4    11/23/2020 9:07           5    3852084          134393   Clarksville   \n",
       "\n",
       "   CountyName StateProvince  ... Is_the_treatment_plan_completed  \\\n",
       "0   Robertson            TN  ...                             NaN   \n",
       "1    Davidson            TN  ...                             NaN   \n",
       "2      Shelby            TN  ...                             NaN   \n",
       "3  Washington            TN  ...                             NaN   \n",
       "4  Montgomery            TN  ...                             NaN   \n",
       "\n",
       "   Was_a_treatment_plan_developed What_car_ was_provided_to_the_enrollee  \\\n",
       "0                             NaN                                    NaN   \n",
       "1                             NaN                                    NaN   \n",
       "2                             NaN                                    NaN   \n",
       "3                             NaN                                    NaN   \n",
       "4                             NaN                                    NaN   \n",
       "\n",
       "   Dental_Insurance Do_they_pre_qualify_for_SMILE_ON_60+  \\\n",
       "0                No                                  Yes   \n",
       "1                No                                  Yes   \n",
       "2                No                                  Yes   \n",
       "3                No                                  Yes   \n",
       "4                No                                  Yes   \n",
       "\n",
       "  What_is_the_next_step_for_clients_encounter  \\\n",
       "0                   Continued with Navigation   \n",
       "1                   Continued with Navigation   \n",
       "2                   Continued with Navigation   \n",
       "3                   Continued with Navigation   \n",
       "4                   Continued with Navigation   \n",
       "\n",
       "  What_is_the_next_step_for_clients_encounter.1 Number_of_Lower_Natural_Teeth  \\\n",
       "0                                           NaN                           NaN   \n",
       "1                                           NaN                           NaN   \n",
       "2                                           NaN                           NaN   \n",
       "3                                           NaN                           NaN   \n",
       "4                                           NaN                           NaN   \n",
       "\n",
       "                                         Enroller_ID  Enroller_Location  \n",
       "0  Matthew Walker Comprehensive Health Center Inc...      Provider Site  \n",
       "1  Matthew Walker Comprehensive Health Center Inc...      Provider Site  \n",
       "2                     Church Health Center - Memphis      Provider Site  \n",
       "3  Northeast Tennessee Community Health Centers I...      Provider Site  \n",
       "4                       Matthew Walker - Clarksville      Provider Site  \n",
       "\n",
       "[5 rows x 56 columns]"
      ]
     },
     "execution_count": 45,
     "metadata": {},
     "output_type": "execute_result"
    }
   ],
   "source": [
    "smile.head()"
   ]
  },
  {
   "cell_type": "code",
   "execution_count": 46,
   "metadata": {},
   "outputs": [
    {
     "data": {
      "text/plain": [
       "array([3859874, 3859856, 3853796, ..., 2647880, 2647845, 2647345],\n",
       "      dtype=int64)"
      ]
     },
     "execution_count": 46,
     "metadata": {},
     "output_type": "execute_result"
    }
   ],
   "source": [
    "smile['CallerNum'].unique()"
   ]
  },
  {
   "cell_type": "code",
   "execution_count": 47,
   "metadata": {},
   "outputs": [
    {
     "data": {
      "text/plain": [
       "8044"
      ]
     },
     "execution_count": 47,
     "metadata": {},
     "output_type": "execute_result"
    }
   ],
   "source": [
    "len(smile['CallerNum'].unique())"
   ]
  },
  {
   "cell_type": "code",
   "execution_count": 48,
   "metadata": {},
   "outputs": [],
   "source": [
    "callernums=pd.DataFrame()"
   ]
  },
  {
   "cell_type": "code",
   "execution_count": 49,
   "metadata": {},
   "outputs": [],
   "source": [
    "\n",
    "smile['PostalCode']=pd.to_numeric(smile['PostalCode'])  #to convert any data type"
   ]
  },
  {
   "cell_type": "code",
   "execution_count": 50,
   "metadata": {},
   "outputs": [
    {
     "data": {
      "text/plain": [
       "PostalCode\n",
       "37130    1119\n",
       "37013     966\n",
       "37207     934\n",
       "37211     787\n",
       "37115     751\n",
       "         ... \n",
       "38222       1\n",
       "38233       1\n",
       "38315       1\n",
       "38334       1\n",
       "38654       1\n",
       "Name: CallerNum, Length: 479, dtype: int64"
      ]
     },
     "execution_count": 50,
     "metadata": {},
     "output_type": "execute_result"
    }
   ],
   "source": [
    "smile.groupby('PostalCode')['CallerNum'].count().sort_values(ascending=False)"
   ]
  },
  {
   "cell_type": "code",
   "execution_count": 51,
   "metadata": {},
   "outputs": [],
   "source": [
    "CallerNum_count=smile.groupby('PostalCode')['CallerNum'].count().sort_values(ascending=False).values"
   ]
  },
  {
   "cell_type": "code",
   "execution_count": 52,
   "metadata": {},
   "outputs": [],
   "source": [
    "PostalCode=smile.groupby('PostalCode')['CallerNum'].count().sort_values(ascending=False).index"
   ]
  },
  {
   "cell_type": "code",
   "execution_count": 53,
   "metadata": {},
   "outputs": [],
   "source": [
    "count=pd.DataFrame()"
   ]
  },
  {
   "cell_type": "code",
   "execution_count": 54,
   "metadata": {},
   "outputs": [],
   "source": [
    "lat=[]\n",
    "lon=[]\n",
    "for zipcode in PostalCode:\n",
    "    zipcode=geolocator.geocode(zipcode)\n",
    "    if zipcode is None:\n",
    "        lat.append(np.nan)\n",
    "        lon.append(np.nan)\n",
    "    else:\n",
    "        lat.append(zipcode.latitude)\n",
    "        lon.append(zipcode.longitude)\n",
    "        \n"
   ]
  },
  {
   "cell_type": "code",
   "execution_count": 55,
   "metadata": {},
   "outputs": [],
   "source": [
    "count['PostalCode']=PostalCode\n",
    "count['lat']=lat\n",
    "count['lon']=lon\n",
    "count['CallerNum_count']=CallerNum_count\n"
   ]
  },
  {
   "cell_type": "code",
   "execution_count": 56,
   "metadata": {},
   "outputs": [
    {
     "data": {
      "text/html": [
       "<div>\n",
       "<style scoped>\n",
       "    .dataframe tbody tr th:only-of-type {\n",
       "        vertical-align: middle;\n",
       "    }\n",
       "\n",
       "    .dataframe tbody tr th {\n",
       "        vertical-align: top;\n",
       "    }\n",
       "\n",
       "    .dataframe thead th {\n",
       "        text-align: right;\n",
       "    }\n",
       "</style>\n",
       "<table border=\"1\" class=\"dataframe\">\n",
       "  <thead>\n",
       "    <tr style=\"text-align: right;\">\n",
       "      <th></th>\n",
       "      <th>PostalCode</th>\n",
       "      <th>lat</th>\n",
       "      <th>lon</th>\n",
       "      <th>CallerNum_count</th>\n",
       "    </tr>\n",
       "  </thead>\n",
       "  <tbody>\n",
       "    <tr>\n",
       "      <th>0</th>\n",
       "      <td>37130</td>\n",
       "      <td>47.337043</td>\n",
       "      <td>0.374548</td>\n",
       "      <td>1119</td>\n",
       "    </tr>\n",
       "    <tr>\n",
       "      <th>1</th>\n",
       "      <td>37013</td>\n",
       "      <td>36.045234</td>\n",
       "      <td>-86.663858</td>\n",
       "      <td>966</td>\n",
       "    </tr>\n",
       "    <tr>\n",
       "      <th>2</th>\n",
       "      <td>37207</td>\n",
       "      <td>36.232787</td>\n",
       "      <td>-86.750344</td>\n",
       "      <td>934</td>\n",
       "    </tr>\n",
       "    <tr>\n",
       "      <th>3</th>\n",
       "      <td>37211</td>\n",
       "      <td>36.051359</td>\n",
       "      <td>-86.719891</td>\n",
       "      <td>787</td>\n",
       "    </tr>\n",
       "    <tr>\n",
       "      <th>4</th>\n",
       "      <td>37115</td>\n",
       "      <td>41.088472</td>\n",
       "      <td>-5.889673</td>\n",
       "      <td>751</td>\n",
       "    </tr>\n",
       "    <tr>\n",
       "      <th>...</th>\n",
       "      <td>...</td>\n",
       "      <td>...</td>\n",
       "      <td>...</td>\n",
       "      <td>...</td>\n",
       "    </tr>\n",
       "    <tr>\n",
       "      <th>474</th>\n",
       "      <td>38222</td>\n",
       "      <td>48.764779</td>\n",
       "      <td>14.176796</td>\n",
       "      <td>1</td>\n",
       "    </tr>\n",
       "    <tr>\n",
       "      <th>475</th>\n",
       "      <td>38233</td>\n",
       "      <td>36.192649</td>\n",
       "      <td>-89.022277</td>\n",
       "      <td>1</td>\n",
       "    </tr>\n",
       "    <tr>\n",
       "      <th>476</th>\n",
       "      <td>38315</td>\n",
       "      <td>52.025779</td>\n",
       "      <td>10.534340</td>\n",
       "      <td>1</td>\n",
       "    </tr>\n",
       "    <tr>\n",
       "      <th>477</th>\n",
       "      <td>38334</td>\n",
       "      <td>35.649005</td>\n",
       "      <td>128.706322</td>\n",
       "      <td>1</td>\n",
       "    </tr>\n",
       "    <tr>\n",
       "      <th>478</th>\n",
       "      <td>38654</td>\n",
       "      <td>34.962300</td>\n",
       "      <td>-89.845222</td>\n",
       "      <td>1</td>\n",
       "    </tr>\n",
       "  </tbody>\n",
       "</table>\n",
       "<p>479 rows × 4 columns</p>\n",
       "</div>"
      ],
      "text/plain": [
       "     PostalCode        lat         lon  CallerNum_count\n",
       "0         37130  47.337043    0.374548             1119\n",
       "1         37013  36.045234  -86.663858              966\n",
       "2         37207  36.232787  -86.750344              934\n",
       "3         37211  36.051359  -86.719891              787\n",
       "4         37115  41.088472   -5.889673              751\n",
       "..          ...        ...         ...              ...\n",
       "474       38222  48.764779   14.176796                1\n",
       "475       38233  36.192649  -89.022277                1\n",
       "476       38315  52.025779   10.534340                1\n",
       "477       38334  35.649005  128.706322                1\n",
       "478       38654  34.962300  -89.845222                1\n",
       "\n",
       "[479 rows x 4 columns]"
      ]
     },
     "execution_count": 56,
     "metadata": {},
     "output_type": "execute_result"
    }
   ],
   "source": [
    "count"
   ]
  },
  {
   "cell_type": "code",
   "execution_count": 57,
   "metadata": {},
   "outputs": [
    {
     "data": {
      "text/html": [
       "<div>\n",
       "<style scoped>\n",
       "    .dataframe tbody tr th:only-of-type {\n",
       "        vertical-align: middle;\n",
       "    }\n",
       "\n",
       "    .dataframe tbody tr th {\n",
       "        vertical-align: top;\n",
       "    }\n",
       "\n",
       "    .dataframe thead th {\n",
       "        text-align: right;\n",
       "    }\n",
       "</style>\n",
       "<table border=\"1\" class=\"dataframe\">\n",
       "  <thead>\n",
       "    <tr style=\"text-align: right;\">\n",
       "      <th></th>\n",
       "      <th>PostalCode</th>\n",
       "      <th>population</th>\n",
       "    </tr>\n",
       "  </thead>\n",
       "  <tbody>\n",
       "    <tr>\n",
       "      <th>0</th>\n",
       "      <td>37013</td>\n",
       "      <td>97,819</td>\n",
       "    </tr>\n",
       "    <tr>\n",
       "      <th>1</th>\n",
       "      <td>37042</td>\n",
       "      <td>77,168</td>\n",
       "    </tr>\n",
       "    <tr>\n",
       "      <th>2</th>\n",
       "      <td>37211</td>\n",
       "      <td>76,834</td>\n",
       "    </tr>\n",
       "    <tr>\n",
       "      <th>3</th>\n",
       "      <td>37075</td>\n",
       "      <td>65,123</td>\n",
       "    </tr>\n",
       "    <tr>\n",
       "      <th>4</th>\n",
       "      <td>37167</td>\n",
       "      <td>59,055</td>\n",
       "    </tr>\n",
       "  </tbody>\n",
       "</table>\n",
       "</div>"
      ],
      "text/plain": [
       "   PostalCode population\n",
       "0       37013     97,819\n",
       "1       37042     77,168\n",
       "2       37211     76,834\n",
       "3       37075     65,123\n",
       "4       37167     59,055"
      ]
     },
     "execution_count": 57,
     "metadata": {},
     "output_type": "execute_result"
    }
   ],
   "source": [
    "population = pd.read_csv('../data/pop_by_zip_clean.csv')\n",
    "population.head()"
   ]
  },
  {
   "cell_type": "code",
   "execution_count": 58,
   "metadata": {},
   "outputs": [
    {
     "data": {
      "text/html": [
       "<div>\n",
       "<style scoped>\n",
       "    .dataframe tbody tr th:only-of-type {\n",
       "        vertical-align: middle;\n",
       "    }\n",
       "\n",
       "    .dataframe tbody tr th {\n",
       "        vertical-align: top;\n",
       "    }\n",
       "\n",
       "    .dataframe thead th {\n",
       "        text-align: right;\n",
       "    }\n",
       "</style>\n",
       "<table border=\"1\" class=\"dataframe\">\n",
       "  <thead>\n",
       "    <tr style=\"text-align: right;\">\n",
       "      <th></th>\n",
       "      <th>PostalCode</th>\n",
       "      <th>lat</th>\n",
       "      <th>lon</th>\n",
       "      <th>CallerNum_count</th>\n",
       "      <th>population</th>\n",
       "    </tr>\n",
       "  </thead>\n",
       "  <tbody>\n",
       "    <tr>\n",
       "      <th>0</th>\n",
       "      <td>37130</td>\n",
       "      <td>47.337043</td>\n",
       "      <td>0.374548</td>\n",
       "      <td>1119</td>\n",
       "      <td>57,071</td>\n",
       "    </tr>\n",
       "    <tr>\n",
       "      <th>1</th>\n",
       "      <td>37013</td>\n",
       "      <td>36.045234</td>\n",
       "      <td>-86.663858</td>\n",
       "      <td>966</td>\n",
       "      <td>97,819</td>\n",
       "    </tr>\n",
       "    <tr>\n",
       "      <th>2</th>\n",
       "      <td>37207</td>\n",
       "      <td>36.232787</td>\n",
       "      <td>-86.750344</td>\n",
       "      <td>934</td>\n",
       "      <td>38,583</td>\n",
       "    </tr>\n",
       "    <tr>\n",
       "      <th>3</th>\n",
       "      <td>37211</td>\n",
       "      <td>36.051359</td>\n",
       "      <td>-86.719891</td>\n",
       "      <td>787</td>\n",
       "      <td>76,834</td>\n",
       "    </tr>\n",
       "    <tr>\n",
       "      <th>4</th>\n",
       "      <td>37115</td>\n",
       "      <td>41.088472</td>\n",
       "      <td>-5.889673</td>\n",
       "      <td>751</td>\n",
       "      <td>40,484</td>\n",
       "    </tr>\n",
       "  </tbody>\n",
       "</table>\n",
       "</div>"
      ],
      "text/plain": [
       "   PostalCode        lat        lon  CallerNum_count population\n",
       "0       37130  47.337043   0.374548             1119     57,071\n",
       "1       37013  36.045234 -86.663858              966     97,819\n",
       "2       37207  36.232787 -86.750344              934     38,583\n",
       "3       37211  36.051359 -86.719891              787     76,834\n",
       "4       37115  41.088472  -5.889673              751     40,484"
      ]
     },
     "execution_count": 58,
     "metadata": {},
     "output_type": "execute_result"
    }
   ],
   "source": [
    "zip_pop=count.merge(population,on='PostalCode',how='left').dropna()\n",
    "zip_pop.head()"
   ]
  },
  {
   "cell_type": "code",
   "execution_count": 59,
   "metadata": {},
   "outputs": [],
   "source": [
    "zip_pop.to_csv(r'C:\\Users\\derej\\Desktop\\python\\zip_pop.csv', index = False)"
   ]
  },
  {
   "cell_type": "code",
   "execution_count": 60,
   "metadata": {},
   "outputs": [
    {
     "data": {
      "text/plain": [
       "PostalCode         0\n",
       "lat                0\n",
       "lon                0\n",
       "CallerNum_count    0\n",
       "dtype: int64"
      ]
     },
     "execution_count": 60,
     "metadata": {},
     "output_type": "execute_result"
    }
   ],
   "source": [
    "count.isna().sum()    #no na"
   ]
  },
  {
   "cell_type": "code",
   "execution_count": 61,
   "metadata": {},
   "outputs": [
    {
     "data": {
      "text/plain": [
       "<folium.plugins.heat_map.HeatMap at 0x2418950b640>"
      ]
     },
     "execution_count": 61,
     "metadata": {},
     "output_type": "execute_result"
    }
   ],
   "source": [
    "HeatMap(count[['lat','lon','CallerNum_count']]).add_to(basemap)"
   ]
  },
  {
   "cell_type": "code",
   "execution_count": 62,
   "metadata": {},
   "outputs": [
    {
     "data": {
      "text/html": [
       "<div style=\"width:100%;\"><div style=\"position:relative;width:100%;height:0;padding-bottom:60%;\"><span style=\"color:#565656\">Make this Notebook Trusted to load map: File -> Trust Notebook</span><iframe src=\"about:blank\" style=\"position:absolute;width:100%;height:100%;left:0;top:0;border:none !important;\" data-html=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 onload=\"this.contentDocument.open();this.contentDocument.write(atob(this.getAttribute('data-html')));this.contentDocument.close();\" allowfullscreen webkitallowfullscreen mozallowfullscreen></iframe></div></div>"
      ],
      "text/plain": [
       "<folium.folium.Map at 0x24188e0e3d0>"
      ]
     },
     "execution_count": 62,
     "metadata": {},
     "output_type": "execute_result"
    }
   ],
   "source": [
    "basemap"
   ]
  },
  {
   "cell_type": "code",
   "execution_count": 63,
   "metadata": {},
   "outputs": [],
   "source": [
    "from folium.plugins import FastMarkerCluster\n"
   ]
  },
  {
   "cell_type": "code",
   "execution_count": 64,
   "metadata": {},
   "outputs": [
    {
     "data": {
      "text/plain": [
       "<folium.plugins.fast_marker_cluster.FastMarkerCluster at 0x24189525340>"
      ]
     },
     "execution_count": 64,
     "metadata": {},
     "output_type": "execute_result"
    }
   ],
   "source": [
    "FastMarkerCluster(count[['lat','lon','CallerNum_count']]).add_to(basemap)"
   ]
  },
  {
   "cell_type": "code",
   "execution_count": 65,
   "metadata": {},
   "outputs": [
    {
     "data": {
      "text/html": [
       "<div style=\"width:100%;\"><div style=\"position:relative;width:100%;height:0;padding-bottom:60%;\"><span style=\"color:#565656\">Make this Notebook Trusted to load map: File -> Trust Notebook</span><iframe src=\"about:blank\" style=\"position:absolute;width:100%;height:100%;left:0;top:0;border:none !important;\" data-html=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 onload=\"this.contentDocument.open();this.contentDocument.write(atob(this.getAttribute('data-html')));this.contentDocument.close();\" allowfullscreen webkitallowfullscreen mozallowfullscreen></iframe></div></div>"
      ],
      "text/plain": [
       "<folium.folium.Map at 0x24188e0e3d0>"
      ]
     },
     "execution_count": 65,
     "metadata": {},
     "output_type": "execute_result"
    }
   ],
   "source": [
    "basemap"
   ]
  },
  {
   "cell_type": "code",
   "execution_count": 66,
   "metadata": {},
   "outputs": [
    {
     "data": {
      "text/plain": [
       "37130    1119\n",
       "37013     966\n",
       "37207     934\n",
       "37211     787\n",
       "37115     751\n",
       "         ... \n",
       "38369       1\n",
       "37409       1\n",
       "37843       1\n",
       "38339       1\n",
       "38548       1\n",
       "Name: PostalCode, Length: 479, dtype: int64"
      ]
     },
     "execution_count": 66,
     "metadata": {},
     "output_type": "execute_result"
    }
   ],
   "source": [
    "smile.PostalCode.value_counts()"
   ]
  },
  {
   "cell_type": "code",
   "execution_count": 82,
   "metadata": {},
   "outputs": [],
   "source": [
    "z=pd.read_csv('../data/zip_pop.csv')"
   ]
  },
  {
   "cell_type": "code",
   "execution_count": 83,
   "metadata": {},
   "outputs": [
    {
     "data": {
      "text/html": [
       "<div>\n",
       "<style scoped>\n",
       "    .dataframe tbody tr th:only-of-type {\n",
       "        vertical-align: middle;\n",
       "    }\n",
       "\n",
       "    .dataframe tbody tr th {\n",
       "        vertical-align: top;\n",
       "    }\n",
       "\n",
       "    .dataframe thead th {\n",
       "        text-align: right;\n",
       "    }\n",
       "</style>\n",
       "<table border=\"1\" class=\"dataframe\">\n",
       "  <thead>\n",
       "    <tr style=\"text-align: right;\">\n",
       "      <th></th>\n",
       "      <th>PostalCode</th>\n",
       "      <th>CallerNum_per_1000pop.</th>\n",
       "    </tr>\n",
       "  </thead>\n",
       "  <tbody>\n",
       "    <tr>\n",
       "      <th>0</th>\n",
       "      <td>37130</td>\n",
       "      <td>19.607156</td>\n",
       "    </tr>\n",
       "    <tr>\n",
       "      <th>1</th>\n",
       "      <td>37013</td>\n",
       "      <td>9.875382</td>\n",
       "    </tr>\n",
       "    <tr>\n",
       "      <th>2</th>\n",
       "      <td>37207</td>\n",
       "      <td>24.207553</td>\n",
       "    </tr>\n",
       "    <tr>\n",
       "      <th>3</th>\n",
       "      <td>37211</td>\n",
       "      <td>10.242861</td>\n",
       "    </tr>\n",
       "    <tr>\n",
       "      <th>4</th>\n",
       "      <td>37115</td>\n",
       "      <td>18.550538</td>\n",
       "    </tr>\n",
       "  </tbody>\n",
       "</table>\n",
       "</div>"
      ],
      "text/plain": [
       "   PostalCode  CallerNum_per_1000pop.\n",
       "0       37130               19.607156\n",
       "1       37013                9.875382\n",
       "2       37207               24.207553\n",
       "3       37211               10.242861\n",
       "4       37115               18.550538"
      ]
     },
     "execution_count": 83,
     "metadata": {},
     "output_type": "execute_result"
    }
   ],
   "source": [
    "z.head()"
   ]
  },
  {
   "cell_type": "code",
   "execution_count": null,
   "metadata": {},
   "outputs": [],
   "source": []
  }
 ],
 "metadata": {
  "kernelspec": {
   "display_name": "Python 3",
   "language": "python",
   "name": "python3"
  },
  "language_info": {
   "codemirror_mode": {
    "name": "ipython",
    "version": 3
   },
   "file_extension": ".py",
   "mimetype": "text/x-python",
   "name": "python",
   "nbconvert_exporter": "python",
   "pygments_lexer": "ipython3",
   "version": "3.8.3"
  }
 },
 "nbformat": 4,
 "nbformat_minor": 4
}
