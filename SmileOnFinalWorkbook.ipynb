{
 "cells": [
  {
   "cell_type": "code",
   "execution_count": 1,
   "metadata": {},
   "outputs": [],
   "source": [
    "import pandas as pd\n",
    "\n",
    "import gc # To collect garbage values generated during running\n",
    "\n",
    "import matplotlib.pyplot as plt\n",
    "\n",
    "import numpy as np\n",
    "\n",
    "import seaborn as sns"
   ]
  },
  {
   "cell_type": "code",
   "execution_count": 2,
   "metadata": {},
   "outputs": [],
   "source": [
    "import warnings\n",
    "warnings.filterwarnings('ignore')"
   ]
  },
  {
   "cell_type": "code",
   "execution_count": 4,
   "metadata": {},
   "outputs": [],
   "source": [
    "series = pd.read_csv('data/SmileOn11.28.2020.csv',header=2, index_col=None, encoding='latin-1' )"
   ]
  },
  {
   "cell_type": "code",
   "execution_count": 5,
   "metadata": {},
   "outputs": [],
   "source": [
    "#Dropping columns where null is upto 25000 values\n",
    "df = series.dropna(axis = 1, thresh = 25000, how = 'all')"
   ]
  },
  {
   "cell_type": "code",
   "execution_count": 6,
   "metadata": {},
   "outputs": [],
   "source": [
    "column = list(df.columns[1:12])\n",
    "column.append('Birth Year')\n",
    "column.append('SMILE ON 60+ Demographic Information - Gender')\n",
    "column.append('SMILE ON 60+ Treatment Plan - Is the treatment plan completed?')"
   ]
  },
  {
   "cell_type": "code",
   "execution_count": 7,
   "metadata": {},
   "outputs": [
    {
     "name": "stdout",
     "output_type": "stream",
     "text": [
      "<class 'pandas.core.frame.DataFrame'>\n",
      "RangeIndex: 40032 entries, 0 to 40031\n",
      "Data columns (total 14 columns):\n",
      " #   Column                                                          Non-Null Count  Dtype  \n",
      "---  ------                                                          --------------  -----  \n",
      " 0   ReportVersion                                                   40032 non-null  object \n",
      " 1   CallDateAndTimeStart                                            40032 non-null  object \n",
      " 2   CallDateAndTimeEnd                                              40032 non-null  object \n",
      " 3   CallLength                                                      40032 non-null  int64  \n",
      " 4   CallerNum                                                       40032 non-null  int64  \n",
      " 5   PhoneWorkerNum                                                  40032 non-null  int64  \n",
      " 6   CityName                                                        39404 non-null  object \n",
      " 7   CountyName                                                      39685 non-null  object \n",
      " 8   StateProvince                                                   40025 non-null  object \n",
      " 9   CountryName                                                     39687 non-null  object \n",
      " 10  PostalCode                                                      37392 non-null  float64\n",
      " 11  Birth Year                                                      40032 non-null  object \n",
      " 12  SMILE ON 60+ Demographic Information - Gender                   39611 non-null  object \n",
      " 13  SMILE ON 60+ Treatment Plan - Is the treatment plan completed?  17535 non-null  object \n",
      "dtypes: float64(1), int64(3), object(10)\n",
      "memory usage: 4.3+ MB\n"
     ]
    }
   ],
   "source": [
    "#Columns that are to be dropped\n",
    "to_drop = []\n",
    "for col in list(series.columns):\n",
    "    if col not in column:\n",
    "        to_drop.append(col)\n",
    "        \n",
    "Drop_Col = to_drop\n",
    "\n",
    "series = series.drop(Drop_Col, axis = 1)\n",
    "\n",
    "#series = series.dropna()\n",
    "series.info()"
   ]
  },
  {
   "cell_type": "code",
   "execution_count": 8,
   "metadata": {},
   "outputs": [],
   "source": [
    "#Since call length is available , Call time and Date is Not required. However year could be used to calculate Age\n",
    "series['CallDateAndTimeEnd'] = pd.to_datetime(series['CallDateAndTimeEnd'], format='%m/%d/%Y %H:%M')\n",
    "series['Year'] = pd.DatetimeIndex(series['CallDateAndTimeEnd']).year\n",
    "\n",
    "#Cleaning Birth Column\n",
    "series = series[(series['Birth Year'] != '#NUM!')]\n",
    "series = series[(series['Birth Year'] != '#VALUE!')]\n",
    "series['Birth Year'] = series['Birth Year'].astype(str).astype(int)\n",
    "\n",
    "#Making New column AGE to check response of survey AGE WISE\n",
    "series['Age']= series['Year']- series['Birth Year']\n",
    "\n",
    "#Cleaning Column CallerNum where number not available\n",
    "series = series[(series['CallerNum'] != -1)]\n",
    "series = series[(series['Age'] > 59)]"
   ]
  },
  {
   "cell_type": "code",
   "execution_count": 17,
   "metadata": {},
   "outputs": [],
   "source": [
    "series = series.rename(columns= {'SMILE ON 60+ Demographic Information - Gender':'Gender','SMILE ON 60+ Treatment Plan - Is the treatment plan completed?':'Complete/Not'})"
   ]
  },
  {
   "cell_type": "code",
   "execution_count": 18,
   "metadata": {},
   "outputs": [
    {
     "name": "stdout",
     "output_type": "stream",
     "text": [
      "<class 'pandas.core.frame.DataFrame'>\n",
      "Int64Index: 16407 entries, 2 to 40029\n",
      "Data columns (total 16 columns):\n",
      " #   Column                Non-Null Count  Dtype         \n",
      "---  ------                --------------  -----         \n",
      " 0   ReportVersion         16407 non-null  object        \n",
      " 1   CallDateAndTimeStart  16407 non-null  object        \n",
      " 2   CallDateAndTimeEnd    16407 non-null  datetime64[ns]\n",
      " 3   CallLength            16407 non-null  int64         \n",
      " 4   CallerNum             16407 non-null  int64         \n",
      " 5   PhoneWorkerNum        16407 non-null  int64         \n",
      " 6   CityName              16407 non-null  object        \n",
      " 7   CountyName            16407 non-null  object        \n",
      " 8   StateProvince         16407 non-null  object        \n",
      " 9   CountryName           16407 non-null  object        \n",
      " 10  PostalCode            16407 non-null  float64       \n",
      " 11  Birth Year            16407 non-null  int32         \n",
      " 12  Gender                16407 non-null  object        \n",
      " 13  Complete/Not          16407 non-null  object        \n",
      " 14  Year                  16407 non-null  int64         \n",
      " 15  Age                   16407 non-null  int64         \n",
      "dtypes: datetime64[ns](1), float64(1), int32(1), int64(5), object(8)\n",
      "memory usage: 2.1+ MB\n"
     ]
    }
   ],
   "source": [
    "series = series.dropna()\n",
    "series.info()"
   ]
  },
  {
   "cell_type": "code",
   "execution_count": 25,
   "metadata": {},
   "outputs": [
    {
     "name": "stdout",
     "output_type": "stream",
     "text": [
      "   CountyName  Age  Gender Complete/Not  size\n",
      "0    Anderson   60  Female           No     1\n",
      "1    Anderson   60    Male           No     3\n",
      "2    Anderson   61  Female           No     2\n",
      "3    Anderson   61  Female          Yes     3\n",
      "4    Anderson   63  Female           No     7\n",
      "5    Anderson   63  Female          Yes     4\n",
      "6    Anderson   63    Male           No     3\n",
      "7    Anderson   64  Female          Yes     1\n",
      "8    Anderson   65  Female           No     2\n",
      "9    Anderson   66  Female           No     2\n",
      "10   Anderson   66  Female          Yes     1\n",
      "11   Anderson   67  Female           No     3\n",
      "12   Anderson   73  Female           No     3\n",
      "13   Anderson   73  Female          Yes     1\n",
      "14   Anderson   73    Male           No     4\n",
      "15   Anderson   73    Male          Yes     3\n",
      "16    Bedford   60  Female           No     3\n",
      "17    Bedford   61  Female           No     1\n",
      "18    Bedford   61    Male           No     2\n",
      "19    Bedford   61    Male          Yes     2\n",
      "20    Bedford   62    Male           No     4\n",
      "21    Bedford   62    Male          Yes     1\n",
      "22    Bedford   63  Female           No     5\n",
      "23    Bedford   63  Female          Yes     2\n",
      "24    Bedford   63    Male           No     1\n",
      "25    Bedford   63    Male          Yes     2\n",
      "26    Bedford   64  Female           No     5\n",
      "27    Bedford   64  Female          Yes     2\n",
      "28    Bedford   64    Male           No     1\n",
      "29    Bedford   65  Female           No    11\n"
     ]
    }
   ],
   "source": [
    "#Grouping the data Age, Gender Wise to determine Effect and if there treatment is complete or not\n",
    "#Keeping Data Only for age group 60-65\n",
    "\n",
    "Grouping = series.groupby(['CountyName','Age','Gender','Complete/Not'], as_index=False).size()\n",
    "ic = Grouping[(Grouping['Age'] <=80)]\n",
    "ic.to_csv(\"Smile_Cleaned.csv\")\n",
    "print(ic.head(30))"
   ]
  },
  {
   "cell_type": "code",
   "execution_count": 27,
   "metadata": {},
   "outputs": [
    {
     "name": "stdout",
     "output_type": "stream",
     "text": [
      "    Age Complete/Not  size\n",
      "0    60           No   539\n",
      "1    60          Yes   146\n",
      "2    61           No  1098\n",
      "3    61          Yes   386\n",
      "4    62           No  1052\n",
      "5    62          Yes   415\n",
      "6    63           No  1046\n",
      "7    63          Yes   439\n",
      "8    64           No  1082\n",
      "9    64          Yes   442\n",
      "10   65           No  1002\n",
      "11   65          Yes   396\n"
     ]
    },
    {
     "data": {
      "image/png": "[encoded data removed]",
      "text/plain": [
       "<Figure size 1080x576 with 1 Axes>"
      ]
     },
     "metadata": {},
     "output_type": "display_data"
    }
   ],
   "source": [
    "#Grouping the data Age Wise to determine if  treatment is complete or not\n",
    "\n",
    "Grouping = series.groupby(['Age','Complete/Not'], as_index=False).size()\n",
    "print(Grouping.head(12))\n",
    "sns.set(rc={'figure.figsize':(15,8)})\n",
    "ax = sns.barplot(x=\"Age\", y=\"size\", hue=\"Complete/Not\", data=Grouping[:12], ci=None)"
   ]
  },
  {
   "cell_type": "code",
   "execution_count": 28,
   "metadata": {},
   "outputs": [
    {
     "name": "stdout",
     "output_type": "stream",
     "text": [
      "    Age  Gender Complete/Not  size\n",
      "1    60  Female          Yes    91\n",
      "3    60    Male          Yes    55\n",
      "5    61  Female          Yes   250\n",
      "7    61    Male          Yes   136\n",
      "9    62  Female          Yes   280\n",
      "11   62    Male          Yes   135\n",
      "13   63  Female          Yes   284\n",
      "15   63    Male          Yes   155\n",
      "17   64  Female          Yes   271\n",
      "19   64    Male          Yes   171\n",
      "21   65  Female          Yes   226\n",
      "23   65    Male          Yes   170\n"
     ]
    },
    {
     "data": {
      "text/plain": [
       "Text(0.5, 1.0, 'Completed Treatment')"
      ]
     },
     "execution_count": 28,
     "metadata": {},
     "output_type": "execute_result"
    },
    {
     "data": {
      "image/png": "[encoded data removed]",
      "text/plain": [
       "<Figure size 842.4x595.44 with 1 Axes>"
      ]
     },
     "metadata": {},
     "output_type": "display_data"
    }
   ],
   "source": [
    "#Completed treatment plan for Age Group 60-65 Gender Wise\n",
    "Grouping = series.groupby(['Age','Gender','Complete/Not'], as_index=False).size()\n",
    "Completed = Grouping[(Grouping['Complete/Not'] == 'Yes')]\n",
    "print(Completed.head(12))\n",
    "sns.set(rc={'figure.figsize':(11.7,8.27)})\n",
    "ax = sns.barplot(x=\"Age\", y=\"size\", hue=\"Gender\", data=Completed[:12], ci=None)\n",
    "ax.set_title('Completed Treatment')"
   ]
  },
  {
   "cell_type": "code",
   "execution_count": 29,
   "metadata": {},
   "outputs": [
    {
     "name": "stdout",
     "output_type": "stream",
     "text": [
      "    Age  Gender Complete/Not  size\n",
      "0    60  Female           No   341\n",
      "2    60    Male           No   198\n",
      "4    61  Female           No   669\n",
      "6    61    Male           No   429\n",
      "8    62  Female           No   629\n",
      "10   62    Male           No   423\n",
      "12   63  Female           No   663\n",
      "14   63    Male           No   383\n",
      "16   64  Female           No   637\n",
      "18   64    Male           No   445\n",
      "20   65  Female           No   612\n",
      "22   65    Male           No   390\n"
     ]
    },
    {
     "data": {
      "text/plain": [
       "Text(0.5, 1.0, 'InComplete Treatment')"
      ]
     },
     "execution_count": 29,
     "metadata": {},
     "output_type": "execute_result"
    },
    {
     "data": {
      "image/png": "[encoded data removed]",
      "text/plain": [
       "<Figure size 842.4x595.44 with 1 Axes>"
      ]
     },
     "metadata": {},
     "output_type": "display_data"
    }
   ],
   "source": [
    "#InComplete treatment plan for Age Group 60-65 Gender Wise\n",
    "Grouping = series.groupby(['Age','Gender','Complete/Not'], as_index=False).size()\n",
    "InComplete = Grouping[(Grouping['Complete/Not'] == 'No')]\n",
    "print(InComplete.head(12))\n",
    "sns.set(rc={'figure.figsize':(11.7,8.27)})\n",
    "ax = sns.barplot(x=\"Age\", y=\"size\", hue=\"Gender\", data=InComplete[:12], ci=None)\n",
    "ax.set_title('InComplete Treatment')"
   ]
  },
  {
   "cell_type": "code",
   "execution_count": 23,
   "metadata": {},
   "outputs": [
    {
     "name": "stdout",
     "output_type": "stream",
     "text": [
      "     CountyName Complete/Not  size\n",
      "136      Shelby           No  3096\n",
      "31     Davidson           No  2431\n",
      "8       Bradley           No   905\n",
      "137      Shelby          Yes   878\n",
      "32     Davidson          Yes   815\n",
      "130  Rutherford           No   805\n",
      "142    Sullivan           No   761\n",
      "143    Sullivan          Yes   624\n",
      "76         Knox           No   499\n",
      "157  Washington           No   348\n"
     ]
    },
    {
     "data": {
      "image/png": "[encoded data removed]",
      "text/plain": [
       "<Figure size 1080x576 with 1 Axes>"
      ]
     },
     "metadata": {},
     "output_type": "display_data"
    }
   ],
   "source": [
    "#Grouping the data County Wise to determine Effect and if there treatment is complete or not\n",
    "#Returns county with maximum response\n",
    "\n",
    "Grouping = series.groupby(['CountyName','Complete/Not'], as_index=False).size()\n",
    "Grouping=Grouping.sort_values(by=['size'], ascending= False)\n",
    "print(Grouping.head(10))\n",
    "sns.set(rc={'figure.figsize':(15,8)})\n",
    "ax = sns.barplot(x=\"CountyName\", y=\"size\", hue=\"Complete/Not\", data=Grouping[:30], ci=None)"
   ]
  },
  {
   "cell_type": "code",
   "execution_count": 31,
   "metadata": {},
   "outputs": [
    {
     "name": "stdout",
     "output_type": "stream",
     "text": [
      "   CountyName  Age  Gender Complete/Not  size\n",
      "0    Anderson   60  Female           No     1\n",
      "1    Anderson   60    Male           No     3\n",
      "2    Anderson   61  Female           No     2\n",
      "3    Anderson   61  Female          Yes     3\n",
      "4    Anderson   63  Female           No     7\n",
      "5    Anderson   63  Female          Yes     4\n",
      "6    Anderson   63    Male           No     3\n",
      "7    Anderson   64  Female          Yes     1\n",
      "8    Anderson   65  Female           No     2\n",
      "9    Anderson   66  Female           No     2\n",
      "10   Anderson   66  Female          Yes     1\n",
      "11   Anderson   67  Female           No     3\n",
      "12   Anderson   73  Female           No     3\n",
      "13   Anderson   73  Female          Yes     1\n",
      "14   Anderson   73    Male           No     4\n",
      "15   Anderson   73    Male          Yes     3\n",
      "16    Bedford   60  Female           No     3\n",
      "17    Bedford   61  Female           No     1\n",
      "18    Bedford   61    Male           No     2\n",
      "19    Bedford   61    Male          Yes     2\n",
      "20    Bedford   62    Male           No     4\n",
      "21    Bedford   62    Male          Yes     1\n",
      "22    Bedford   63  Female           No     5\n",
      "23    Bedford   63  Female          Yes     2\n",
      "24    Bedford   63    Male           No     1\n",
      "25    Bedford   63    Male          Yes     2\n",
      "26    Bedford   64  Female           No     5\n",
      "27    Bedford   64  Female          Yes     2\n",
      "28    Bedford   64    Male           No     1\n",
      "29    Bedford   65  Female           No    11\n"
     ]
    }
   ],
   "source": [
    "#Keeping Data Only for age group 60-65\n",
    "Grouping = series.groupby(['CountyName','Age','Gender','Complete/Not'], as_index=False).size()\n",
    "ic = Grouping[(Grouping['Age'] <=120)]\n",
    "print(ic.head(30))"
   ]
  },
  {
   "cell_type": "code",
   "execution_count": null,
   "metadata": {},
   "outputs": [],
   "source": []
  },
  {
   "cell_type": "code",
   "execution_count": null,
   "metadata": {},
   "outputs": [],
   "source": []
  },
  {
   "cell_type": "code",
   "execution_count": null,
   "metadata": {},
   "outputs": [],
   "source": []
  },
  {
   "cell_type": "code",
   "execution_count": null,
   "metadata": {},
   "outputs": [],
   "source": []
  }
 ],
 "metadata": {
  "kernelspec": {
   "display_name": "Python 3",
   "language": "python",
   "name": "python3"
  },
  "language_info": {
   "codemirror_mode": {
    "name": "ipython",
    "version": 3
   },
   "file_extension": ".py",
   "mimetype": "text/x-python",
   "name": "python",
   "nbconvert_exporter": "python",
   "pygments_lexer": "ipython3",
   "version": "3.8.5"
  }
 },
 "nbformat": 4,
 "nbformat_minor": 4
}
